{
 "cells": [
  {
   "cell_type": "markdown",
   "id": "b15e5724",
   "metadata": {},
   "source": [
    "# CNN With GloVe"
   ]
  },
  {
   "cell_type": "code",
   "execution_count": 1,
   "id": "64506f79",
   "metadata": {},
   "outputs": [],
   "source": [
    "import os\n",
    "import re\n",
    "import shutil\n",
    "import string\n",
    "\n",
    "import pandas as pd\n",
    "import numpy as np"
   ]
  },
  {
   "cell_type": "markdown",
   "id": "4e439b6d",
   "metadata": {},
   "source": [
    "Read Cleaned Dataset"
   ]
  },
  {
   "cell_type": "code",
   "execution_count": 2,
   "id": "193724a6",
   "metadata": {},
   "outputs": [
    {
     "data": {
      "text/html": [
       "<div>\n",
       "<style scoped>\n",
       "    .dataframe tbody tr th:only-of-type {\n",
       "        vertical-align: middle;\n",
       "    }\n",
       "\n",
       "    .dataframe tbody tr th {\n",
       "        vertical-align: top;\n",
       "    }\n",
       "\n",
       "    .dataframe thead th {\n",
       "        text-align: right;\n",
       "    }\n",
       "</style>\n",
       "<table border=\"1\" class=\"dataframe\">\n",
       "  <thead>\n",
       "    <tr style=\"text-align: right;\">\n",
       "      <th></th>\n",
       "      <th>Unnamed: 0.1</th>\n",
       "      <th>Unnamed: 0</th>\n",
       "      <th>tweet</th>\n",
       "      <th>Label</th>\n",
       "      <th>clean_tweet</th>\n",
       "      <th>clean_tweet2</th>\n",
       "    </tr>\n",
       "  </thead>\n",
       "  <tbody>\n",
       "    <tr>\n",
       "      <th>0</th>\n",
       "      <td>0</td>\n",
       "      <td>90896</td>\n",
       "      <td>Th blizzards R landing all over th ceiling, wa...</td>\n",
       "      <td>Sex Trafficking</td>\n",
       "      <td>blizzards landing all over ceiling walls and f...</td>\n",
       "      <td>blizzards landing ceiling walls floor country ...</td>\n",
       "    </tr>\n",
       "    <tr>\n",
       "      <th>1</th>\n",
       "      <td>1</td>\n",
       "      <td>47283</td>\n",
       "      <td>@LALewman What the dimwits fail to acknowledge...</td>\n",
       "      <td>Rape</td>\n",
       "      <td>what the dimwits fail acknowledge that ectopic...</td>\n",
       "      <td>dimwits fail acknowledge ectopic pregnancy kil...</td>\n",
       "    </tr>\n",
       "    <tr>\n",
       "      <th>2</th>\n",
       "      <td>2</td>\n",
       "      <td>33330</td>\n",
       "      <td>Good to know that @bbcnews @bbcworldservice do...</td>\n",
       "      <td>Rape</td>\n",
       "      <td>good know that not care about the rape women a...</td>\n",
       "      <td>good know not care rape women girls not russia...</td>\n",
       "    </tr>\n",
       "    <tr>\n",
       "      <th>3</th>\n",
       "      <td>3</td>\n",
       "      <td>48737</td>\n",
       "      <td>S/O to all of you who want Roe V Wade overturn...</td>\n",
       "      <td>Rape</td>\n",
       "      <td>all you who want roe wade overturned and who g...</td>\n",
       "      <td>want roe wade overturned guess providing finan...</td>\n",
       "    </tr>\n",
       "    <tr>\n",
       "      <th>4</th>\n",
       "      <td>4</td>\n",
       "      <td>92382</td>\n",
       "      <td>@Mr_Macaaroni Sex worker industry fuels human ...</td>\n",
       "      <td>Sex Trafficking</td>\n",
       "      <td>sex worker industry fuels human trafficking th...</td>\n",
       "      <td>sex worker industry fuels human trafficking ca...</td>\n",
       "    </tr>\n",
       "    <tr>\n",
       "      <th>...</th>\n",
       "      <td>...</td>\n",
       "      <td>...</td>\n",
       "      <td>...</td>\n",
       "      <td>...</td>\n",
       "      <td>...</td>\n",
       "      <td>...</td>\n",
       "    </tr>\n",
       "    <tr>\n",
       "      <th>85692</th>\n",
       "      <td>85692</td>\n",
       "      <td>91446</td>\n",
       "      <td>Sex trafficking is bad for the economy!!!!</td>\n",
       "      <td>Sex Trafficking</td>\n",
       "      <td>sex trafficking bad for the economy</td>\n",
       "      <td>sex trafficking bad economy</td>\n",
       "    </tr>\n",
       "    <tr>\n",
       "      <th>85693</th>\n",
       "      <td>85693</td>\n",
       "      <td>74923</td>\n",
       "      <td>@bassie_hd @MAJDAL774632662 @lion_4_zion @AD_G...</td>\n",
       "      <td>Sexual Harassment</td>\n",
       "      <td>seems that your mind intellectually polluted a...</td>\n",
       "      <td>seems mind intellectually polluted carries not...</td>\n",
       "    </tr>\n",
       "    <tr>\n",
       "      <th>85694</th>\n",
       "      <td>85694</td>\n",
       "      <td>4357</td>\n",
       "      <td>@Redlizzieredd @todd_spader Domestic Violence ...</td>\n",
       "      <td>Domestic Violence</td>\n",
       "      <td>domestic violence needs outlet they should gym...</td>\n",
       "      <td>domestic violence needs outlet gym feeling str...</td>\n",
       "    </tr>\n",
       "    <tr>\n",
       "      <th>85695</th>\n",
       "      <td>85695</td>\n",
       "      <td>41500</td>\n",
       "      <td>@Steevec10 @theJagmeetSingh It's 9 months out ...</td>\n",
       "      <td>Rape</td>\n",
       "      <td>months out her entire life you should not murd...</td>\n",
       "      <td>months entire life not murder baby someone els...</td>\n",
       "    </tr>\n",
       "    <tr>\n",
       "      <th>85696</th>\n",
       "      <td>85696</td>\n",
       "      <td>3886</td>\n",
       "      <td>@dontlickchalk Not a current owner, not advers...</td>\n",
       "      <td>Domestic Violence</td>\n",
       "      <td>not current owner not adverse owning grew arou...</td>\n",
       "      <td>not current owner not adverse owning grew arou...</td>\n",
       "    </tr>\n",
       "  </tbody>\n",
       "</table>\n",
       "<p>85697 rows × 6 columns</p>\n",
       "</div>"
      ],
      "text/plain": [
       "       Unnamed: 0.1  Unnamed: 0  \\\n",
       "0                 0       90896   \n",
       "1                 1       47283   \n",
       "2                 2       33330   \n",
       "3                 3       48737   \n",
       "4                 4       92382   \n",
       "...             ...         ...   \n",
       "85692         85692       91446   \n",
       "85693         85693       74923   \n",
       "85694         85694        4357   \n",
       "85695         85695       41500   \n",
       "85696         85696        3886   \n",
       "\n",
       "                                                   tweet              Label  \\\n",
       "0      Th blizzards R landing all over th ceiling, wa...    Sex Trafficking   \n",
       "1      @LALewman What the dimwits fail to acknowledge...               Rape   \n",
       "2      Good to know that @bbcnews @bbcworldservice do...               Rape   \n",
       "3      S/O to all of you who want Roe V Wade overturn...               Rape   \n",
       "4      @Mr_Macaaroni Sex worker industry fuels human ...    Sex Trafficking   \n",
       "...                                                  ...                ...   \n",
       "85692         Sex trafficking is bad for the economy!!!!    Sex Trafficking   \n",
       "85693  @bassie_hd @MAJDAL774632662 @lion_4_zion @AD_G...  Sexual Harassment   \n",
       "85694  @Redlizzieredd @todd_spader Domestic Violence ...  Domestic Violence   \n",
       "85695  @Steevec10 @theJagmeetSingh It's 9 months out ...               Rape   \n",
       "85696  @dontlickchalk Not a current owner, not advers...  Domestic Violence   \n",
       "\n",
       "                                             clean_tweet  \\\n",
       "0      blizzards landing all over ceiling walls and f...   \n",
       "1      what the dimwits fail acknowledge that ectopic...   \n",
       "2      good know that not care about the rape women a...   \n",
       "3      all you who want roe wade overturned and who g...   \n",
       "4      sex worker industry fuels human trafficking th...   \n",
       "...                                                  ...   \n",
       "85692                sex trafficking bad for the economy   \n",
       "85693  seems that your mind intellectually polluted a...   \n",
       "85694  domestic violence needs outlet they should gym...   \n",
       "85695  months out her entire life you should not murd...   \n",
       "85696  not current owner not adverse owning grew arou...   \n",
       "\n",
       "                                            clean_tweet2  \n",
       "0      blizzards landing ceiling walls floor country ...  \n",
       "1      dimwits fail acknowledge ectopic pregnancy kil...  \n",
       "2      good know not care rape women girls not russia...  \n",
       "3      want roe wade overturned guess providing finan...  \n",
       "4      sex worker industry fuels human trafficking ca...  \n",
       "...                                                  ...  \n",
       "85692                        sex trafficking bad economy  \n",
       "85693  seems mind intellectually polluted carries not...  \n",
       "85694  domestic violence needs outlet gym feeling str...  \n",
       "85695  months entire life not murder baby someone els...  \n",
       "85696  not current owner not adverse owning grew arou...  \n",
       "\n",
       "[85697 rows x 6 columns]"
      ]
     },
     "execution_count": 2,
     "metadata": {},
     "output_type": "execute_result"
    }
   ],
   "source": [
    "df = pd.read_csv('cleaned_df.csv')\n",
    "\n",
    "df"
   ]
  },
  {
   "cell_type": "markdown",
   "id": "585bc45b",
   "metadata": {},
   "source": [
    "Find Maximum Sentences Length"
   ]
  },
  {
   "cell_type": "code",
   "execution_count": 3,
   "id": "b5b7d0ce",
   "metadata": {},
   "outputs": [
    {
     "name": "stdout",
     "output_type": "stream",
     "text": [
      "Dataset Max Sentence Length :42\n"
     ]
    }
   ],
   "source": [
    "df['Num_words_text'] = df['clean_tweet2'].apply(lambda x:len(str(x).split())) \n",
    "mask = df['Num_words_text'] >2\n",
    "df = df[mask]\n",
    "max_dataset_sentence_length  = df['Num_words_text'].max()\n",
    "print('Dataset Max Sentence Length :'+str(max_dataset_sentence_length))"
   ]
  },
  {
   "cell_type": "markdown",
   "id": "bbb45c3c",
   "metadata": {},
   "source": [
    "Find Number of Words"
   ]
  },
  {
   "cell_type": "code",
   "execution_count": 4,
   "id": "f9fb77ed",
   "metadata": {},
   "outputs": [],
   "source": [
    "from nltk.tokenize import word_tokenize\n",
    "import nltk\n",
    "\n",
    "def create_corpus_tk(my_df):\n",
    "    corpus = []\n",
    "    for text in my_df[\"clean_tweet2\"]:\n",
    "        words = [word.lower() for word in word_tokenize(text)]\n",
    "        corpus.append(words)\n",
    "    return corpus"
   ]
  },
  {
   "cell_type": "code",
   "execution_count": 5,
   "id": "8d90b0ca",
   "metadata": {},
   "outputs": [
    {
     "name": "stdout",
     "output_type": "stream",
     "text": [
      "83914\n"
     ]
    }
   ],
   "source": [
    "corpus = create_corpus_tk(df)\n",
    "\n",
    "num_words = len(corpus)\n",
    "print(num_words)"
   ]
  },
  {
   "cell_type": "markdown",
   "id": "9d37fd6b",
   "metadata": {},
   "source": [
    "## Train/Test Split"
   ]
  },
  {
   "cell_type": "code",
   "execution_count": 6,
   "id": "531f024f",
   "metadata": {},
   "outputs": [],
   "source": [
    "from sklearn.model_selection import train_test_split\n",
    "\n",
    "X = df['clean_tweet2']\n",
    "Y = pd.get_dummies(df['Label']).values\n",
    "\n",
    "X_train, X_test, Y_train, Y_test = train_test_split(X, Y, test_size = 0.20, random_state = 42) #shuffle = False)"
   ]
  },
  {
   "cell_type": "markdown",
   "id": "b232d725",
   "metadata": {},
   "source": [
    "## Tokenization"
   ]
  },
  {
   "cell_type": "code",
   "execution_count": 7,
   "id": "3878031b",
   "metadata": {},
   "outputs": [],
   "source": [
    "from keras.preprocessing.text import Tokenizer\n",
    "from keras.preprocessing.sequence import pad_sequences\n",
    "\n",
    "max_len = 50"
   ]
  },
  {
   "cell_type": "code",
   "execution_count": 8,
   "id": "f8ebb187",
   "metadata": {},
   "outputs": [],
   "source": [
    "tokenizer = Tokenizer(num_words=num_words)\n",
    "tokenizer.fit_on_texts(X_train)"
   ]
  },
  {
   "cell_type": "code",
   "execution_count": 9,
   "id": "d6dd1b2b",
   "metadata": {},
   "outputs": [],
   "source": [
    "train_sequences = tokenizer.texts_to_sequences(X_train)"
   ]
  },
  {
   "cell_type": "code",
   "execution_count": 10,
   "id": "7def5aa0",
   "metadata": {},
   "outputs": [],
   "source": [
    "train_padded = pad_sequences(\n",
    "    train_sequences, maxlen=max_len, truncating=\"post\", padding=\"post\"\n",
    ")"
   ]
  },
  {
   "cell_type": "code",
   "execution_count": 11,
   "id": "dfc5ac80",
   "metadata": {},
   "outputs": [],
   "source": [
    "test_sequences = tokenizer.texts_to_sequences(X_test)\n",
    "test_padded = pad_sequences(\n",
    "    test_sequences, maxlen=max_len, truncating=\"post\", padding=\"post\"\n",
    ")"
   ]
  },
  {
   "cell_type": "code",
   "execution_count": 12,
   "id": "bba085d0",
   "metadata": {},
   "outputs": [
    {
     "name": "stdout",
     "output_type": "stream",
     "text": [
      "Number of unique words:  48798\n"
     ]
    }
   ],
   "source": [
    "word_index = tokenizer.word_index\n",
    "print(\"Number of unique words: \", len(word_index))"
   ]
  },
  {
   "cell_type": "markdown",
   "id": "812ebd1c",
   "metadata": {},
   "source": [
    "## Create Embedding Dictionary"
   ]
  },
  {
   "cell_type": "code",
   "execution_count": 13,
   "id": "17ffb1e9",
   "metadata": {},
   "outputs": [],
   "source": [
    "embedding_dict = {}\n",
    "f = open(\"../GloVe/GloVe_Twitter/glove.twitter.27B.100d.txt\", encoding=\"utf8\")\n",
    "for line in f:\n",
    "    values = line.split()\n",
    "    word = values[0]\n",
    "    vectors = np.asarray(values[1:], \"float32\")\n",
    "    embedding_dict[word] = vectors\n",
    "f.close()"
   ]
  },
  {
   "cell_type": "code",
   "execution_count": 14,
   "id": "5c2307b4",
   "metadata": {},
   "outputs": [],
   "source": [
    "num_words = len(word_index) + 1\n",
    "embedding_matrix = np.zeros((num_words, 100))\n",
    "\n",
    "for word, i in word_index.items():\n",
    "    if i < num_words:\n",
    "        emb_vec = embedding_dict.get(word)\n",
    "        if emb_vec is not None:\n",
    "            embedding_matrix[i] = emb_vec"
   ]
  },
  {
   "cell_type": "code",
   "execution_count": 15,
   "id": "d2650a09",
   "metadata": {},
   "outputs": [
    {
     "name": "stdout",
     "output_type": "stream",
     "text": [
      "(67131, 50)\n",
      "(67131, 8)\n"
     ]
    }
   ],
   "source": [
    "print(train_padded.shape)\n",
    "print(Y_train.shape)"
   ]
  },
  {
   "cell_type": "code",
   "execution_count": 16,
   "id": "6d8aabef",
   "metadata": {},
   "outputs": [
    {
     "name": "stdout",
     "output_type": "stream",
     "text": [
      "(16783, 50)\n",
      "(16783, 8)\n"
     ]
    }
   ],
   "source": [
    "print(test_padded.shape)\n",
    "print(Y_test.shape)"
   ]
  },
  {
   "cell_type": "markdown",
   "id": "882eb545",
   "metadata": {},
   "source": [
    "## Baseline Model With GloVe"
   ]
  },
  {
   "cell_type": "code",
   "execution_count": 28,
   "id": "4a4faa29",
   "metadata": {},
   "outputs": [
    {
     "name": "stdout",
     "output_type": "stream",
     "text": [
      "Model: \"sequential_1\"\n",
      "_________________________________________________________________\n",
      " Layer (type)                Output Shape              Param #   \n",
      "=================================================================\n",
      " embedding_1 (Embedding)     (None, 50, 100)           4879900   \n",
      "                                                                 \n",
      " conv1d_1 (Conv1D)           (None, 50, 100)           40100     \n",
      "                                                                 \n",
      " max_pooling1d_1 (MaxPooling  (None, 25, 100)          0         \n",
      " 1D)                                                             \n",
      "                                                                 \n",
      " flatten_1 (Flatten)         (None, 2500)              0         \n",
      "                                                                 \n",
      " dense_2 (Dense)             (None, 100)               250100    \n",
      "                                                                 \n",
      " dense_3 (Dense)             (None, 8)                 808       \n",
      "                                                                 \n",
      "=================================================================\n",
      "Total params: 5,170,908\n",
      "Trainable params: 291,008\n",
      "Non-trainable params: 4,879,900\n",
      "_________________________________________________________________\n"
     ]
    }
   ],
   "source": [
    "from keras.models import Sequential\n",
    "from keras.layers.core import Activation, Dropout, Dense\n",
    "from keras.layers import Embedding, Conv1D, Dense, Dropout, Flatten, MaxPooling1D\n",
    "from keras.initializers import Constant\n",
    "from tensorflow.keras.optimizers import Adam\n",
    "\n",
    "model = Sequential()\n",
    "\n",
    "model.add(\n",
    "    Embedding(\n",
    "        num_words,\n",
    "        100,\n",
    "        embeddings_initializer=Constant(embedding_matrix),\n",
    "        input_length=max_len,\n",
    "        trainable=False,\n",
    "    )\n",
    ")\n",
    "#model.add(Conv1D(100, 8, activation='relu')) # dropout=0.1\n",
    "#model.add(GlobalMaxPooling1D())\n",
    "#model.add(Conv1D(filters=128, kernel_size=4, padding='same', activation='relu'))\n",
    "#model.add(MaxPooling1D(pool_size=2))\n",
    "#model.add(Conv1D(filters=64, kernel_size=4, padding='same', activation='relu'))\n",
    "#model.add(MaxPooling1D(pool_size=2))\n",
    "model.add(Conv1D(100, kernel_size=4, padding='same', activation='relu'))\n",
    "model.add(MaxPooling1D())\n",
    "model.add(Flatten())\n",
    "model.add(Dense(100, activation='relu'))\n",
    "model.add(Dense(8,activation=\"softmax\"))\n",
    "\n",
    "optimizer = Adam(learning_rate=0.003) #3e-4\n",
    "\n",
    "#model.compile(loss=\"binary_crossentropy\", optimizer=optimizer, metrics=[\"accuracy\"])\n",
    "model.compile(loss=\"categorical_crossentropy\", optimizer=optimizer, metrics=[\"accuracy\"])\n",
    "\n",
    "model.summary()"
   ]
  },
  {
   "cell_type": "code",
   "execution_count": 29,
   "id": "6a2f8848",
   "metadata": {},
   "outputs": [
    {
     "name": "stdout",
     "output_type": "stream",
     "text": [
      "Epoch 1/20\n",
      "1889/1889 [==============================] - 35s 18ms/step - loss: 0.1532 - accuracy: 0.9534 - val_loss: 0.0865 - val_accuracy: 0.9742\n",
      "Epoch 2/20\n",
      "1889/1889 [==============================] - 36s 19ms/step - loss: 0.0665 - accuracy: 0.9792 - val_loss: 0.0830 - val_accuracy: 0.9750\n",
      "Epoch 3/20\n",
      "1889/1889 [==============================] - 36s 19ms/step - loss: 0.0507 - accuracy: 0.9840 - val_loss: 0.1021 - val_accuracy: 0.9742\n",
      "Epoch 4/20\n",
      "1889/1889 [==============================] - 36s 19ms/step - loss: 0.0402 - accuracy: 0.9874 - val_loss: 0.1121 - val_accuracy: 0.9753\n",
      "Epoch 5/20\n",
      "1889/1889 [==============================] - 32s 17ms/step - loss: 0.0300 - accuracy: 0.9913 - val_loss: 0.1180 - val_accuracy: 0.9763\n",
      "Epoch 6/20\n",
      "1889/1889 [==============================] - 32s 17ms/step - loss: 0.0265 - accuracy: 0.9926 - val_loss: 0.1508 - val_accuracy: 0.9744\n",
      "Epoch 7/20\n",
      "1889/1889 [==============================] - 36s 19ms/step - loss: 0.0244 - accuracy: 0.9937 - val_loss: 0.2105 - val_accuracy: 0.9707\n",
      "Epoch 8/20\n",
      "1889/1889 [==============================] - 34s 18ms/step - loss: 0.0242 - accuracy: 0.9940 - val_loss: 0.1925 - val_accuracy: 0.9765\n",
      "Epoch 9/20\n",
      "1889/1889 [==============================] - 34s 18ms/step - loss: 0.0217 - accuracy: 0.9943 - val_loss: 0.2208 - val_accuracy: 0.9742\n",
      "Epoch 10/20\n",
      "1889/1889 [==============================] - 33s 17ms/step - loss: 0.0160 - accuracy: 0.9960 - val_loss: 0.2623 - val_accuracy: 0.9716\n",
      "Epoch 11/20\n",
      "1889/1889 [==============================] - 32s 17ms/step - loss: 0.0208 - accuracy: 0.9954 - val_loss: 0.2649 - val_accuracy: 0.9701\n",
      "Epoch 12/20\n",
      "1889/1889 [==============================] - 35s 19ms/step - loss: 0.0180 - accuracy: 0.9961 - val_loss: 0.3219 - val_accuracy: 0.9736\n",
      "Epoch 13/20\n",
      "1889/1889 [==============================] - 35s 18ms/step - loss: 0.0175 - accuracy: 0.9964 - val_loss: 0.2936 - val_accuracy: 0.9762\n",
      "Epoch 14/20\n",
      "1889/1889 [==============================] - 38s 20ms/step - loss: 0.0175 - accuracy: 0.9965 - val_loss: 0.3149 - val_accuracy: 0.9738\n",
      "Epoch 15/20\n",
      "1889/1889 [==============================] - 33s 18ms/step - loss: 0.0181 - accuracy: 0.9964 - val_loss: 0.2996 - val_accuracy: 0.9735\n",
      "Epoch 16/20\n",
      "1889/1889 [==============================] - 32s 17ms/step - loss: 0.0154 - accuracy: 0.9970 - val_loss: 0.3181 - val_accuracy: 0.9739\n",
      "Epoch 17/20\n",
      "1889/1889 [==============================] - 34s 18ms/step - loss: 0.0105 - accuracy: 0.9980 - val_loss: 0.4108 - val_accuracy: 0.9747\n",
      "Epoch 18/20\n",
      "1889/1889 [==============================] - 33s 17ms/step - loss: 0.0202 - accuracy: 0.9965 - val_loss: 0.3470 - val_accuracy: 0.9744\n",
      "Epoch 19/20\n",
      "1889/1889 [==============================] - 33s 17ms/step - loss: 0.0148 - accuracy: 0.9972 - val_loss: 0.4198 - val_accuracy: 0.9745\n",
      "Epoch 20/20\n",
      "1889/1889 [==============================] - 36s 19ms/step - loss: 0.0143 - accuracy: 0.9973 - val_loss: 0.4078 - val_accuracy: 0.9756\n",
      "CPU times: total: 29min 14s\n",
      "Wall time: 11min 25s\n"
     ]
    }
   ],
   "source": [
    "%%time\n",
    "\n",
    "history = model.fit(\n",
    "    train_padded,\n",
    "    Y_train,\n",
    "    epochs=20,\n",
    "    validation_split=0.1,\n",
    "    #validation_data=(test_padded, Y_test),\n",
    "    verbose=1,\n",
    ")"
   ]
  },
  {
   "cell_type": "markdown",
   "id": "00c43ecb",
   "metadata": {},
   "source": [
    "## Save Model"
   ]
  },
  {
   "cell_type": "code",
   "execution_count": null,
   "id": "be958748",
   "metadata": {},
   "outputs": [],
   "source": [
    "from tensorflow import keras\n",
    "\n",
    "model.save('cnn_model1')\n",
    "model = keras.models.load_model('cnn_model1')"
   ]
  },
  {
   "cell_type": "code",
   "execution_count": null,
   "id": "57752b24",
   "metadata": {},
   "outputs": [],
   "source": [
    "import json\n",
    "\n",
    "with open('cnn_history1.json', 'w') as f:\n",
    "    json.dump(history.history, f)"
   ]
  },
  {
   "cell_type": "code",
   "execution_count": 1,
   "id": "0a21cd3e",
   "metadata": {},
   "outputs": [],
   "source": [
    "import json\n",
    "\n",
    "f = open('cnn_history1.json')\n",
    "history = json.load(f)"
   ]
  },
  {
   "cell_type": "code",
   "execution_count": null,
   "id": "5e447505",
   "metadata": {},
   "outputs": [],
   "source": [
    "history??"
   ]
  },
  {
   "cell_type": "markdown",
   "id": "9614dcee",
   "metadata": {},
   "source": [
    "## Evaluation"
   ]
  },
  {
   "cell_type": "code",
   "execution_count": 30,
   "id": "e1e0d8d3",
   "metadata": {},
   "outputs": [
    {
     "name": "stdout",
     "output_type": "stream",
     "text": [
      "525/525 [==============================] - 4s 9ms/step - loss: 0.3734 - accuracy: 0.9758\n",
      "Test set\n",
      "  Loss: 0.373\n",
      "  Accuracy: 0.976\n"
     ]
    }
   ],
   "source": [
    "accr = model.evaluate(test_padded,Y_test)\n",
    "print('Test set\\n  Loss: {:0.3f}\\n  Accuracy: {:0.3f}'.format(accr[0],accr[1]))"
   ]
  },
  {
   "cell_type": "code",
   "execution_count": 3,
   "id": "7a0823a0",
   "metadata": {},
   "outputs": [
    {
     "data": {
      "image/png": "[encoded data removed]",
      "text/plain": [
       "<Figure size 432x288 with 1 Axes>"
      ]
     },
     "metadata": {
      "needs_background": "light"
     },
     "output_type": "display_data"
    }
   ],
   "source": [
    "import matplotlib.pyplot as plt\n",
    "\n",
    "plt.title('Loss')\n",
    "#plt.plot(history['loss'], label='train')\n",
    "#plt.plot(history['val_loss'], label='valid')\n",
    "plt.plot(history['loss'], label='train')\n",
    "plt.plot(history['val_loss'], label='valid')\n",
    "plt.xlabel('Epoch Number')\n",
    "plt.ylabel('Loss')\n",
    "plt.legend()\n",
    "plt.show();"
   ]
  },
  {
   "cell_type": "code",
   "execution_count": 4,
   "id": "2c3418ea",
   "metadata": {},
   "outputs": [
    {
     "data": {
      "image/png": "[encoded data removed]",
      "text/plain": [
       "<Figure size 432x288 with 1 Axes>"
      ]
     },
     "metadata": {
      "needs_background": "light"
     },
     "output_type": "display_data"
    }
   ],
   "source": [
    "plt.title('Accuracy')\n",
    "#plt.plot(history['accuracy'], label='train')\n",
    "#plt.plot(history['val_accuracy'], label='valid')\n",
    "plt.plot(history['accuracy'], label='train')\n",
    "plt.plot(history['val_accuracy'], label='valid')\n",
    "plt.xlabel('Epoch Number')\n",
    "plt.ylabel('Accuracy')\n",
    "plt.legend()\n",
    "plt.show();"
   ]
  },
  {
   "cell_type": "code",
   "execution_count": 33,
   "id": "aea921cd",
   "metadata": {},
   "outputs": [],
   "source": [
    "sequences = tokenizer.texts_to_sequences(X_test)\n",
    "padded_y = pad_sequences(sequences, maxlen=max_len, padding=\"post\", truncating=\"post\")"
   ]
  },
  {
   "cell_type": "code",
   "execution_count": 34,
   "id": "afaf51a1",
   "metadata": {},
   "outputs": [],
   "source": [
    "pred_y = model.predict(padded_y)\n",
    "pred_y_int = pred_y.round().astype(\"int\")"
   ]
  },
  {
   "cell_type": "code",
   "execution_count": 35,
   "id": "584d74ad",
   "metadata": {},
   "outputs": [],
   "source": [
    "import matplotlib.pyplot as plt\n",
    "\n",
    "def plot_value_array(i, predictions_array, true_label):\n",
    "  labels = [0,1,2,3,4,5,6,7] #['Domestic Violence', 'Rape', 'Sexual Harassment', 'Sex Trafficking', 'Forced Marriage', \n",
    "          #'Online Violence', 'femicide', 'forced abortion']\n",
    "  true_label = true_label\n",
    "  plt.grid(False)\n",
    "  plt.xticks(range(8))\n",
    "  plt.yticks([])\n",
    "  vector = np.vectorize(np.float64)\n",
    "  h = vector(predictions_array.reshape(1, -1))\n",
    "  thisplot = plt.bar(range(8), h[0], color=\"#777777\")\n",
    "  plt.ylim([0, 1])\n",
    "  predicted_label = labels[np.argmax(predictions_array.reshape(1, -1))]\n",
    "\n",
    "  thisplot[predicted_label].set_color('red')\n",
    "  thisplot[true_label].set_color('blue')"
   ]
  },
  {
   "cell_type": "code",
   "execution_count": 36,
   "id": "abe38a16",
   "metadata": {},
   "outputs": [
    {
     "name": "stdout",
     "output_type": "stream",
     "text": [
      "men emotions men experience abuse domestic violence men able express feelings report abuse vocal praying every man going thru something silently\n",
      "Sexual Harassment 100% (Domestic Violence)\n"
     ]
    },
    {
     "data": {
      "image/png": "[encoded data removed]",
      "text/plain": [
       "<Figure size 648x216 with 1 Axes>"
      ]
     },
     "metadata": {
      "needs_background": "light"
     },
     "output_type": "display_data"
    }
   ],
   "source": [
    "#print(pred, labels[np.argmax(pred)])\n",
    "\n",
    "i = 5000\n",
    "reverse_word_index = dict([(value, key) for (key, value) in word_index.items()])\n",
    "\n",
    "def decode(text):\n",
    "    return \" \".join([reverse_word_index.get(i, \"?\") for i in text])\n",
    "\n",
    "my_word = decode(sequences[i])\n",
    "print(my_word)\n",
    "new_data = [my_word]\n",
    "seq = tokenizer.texts_to_sequences(new_data)\n",
    "padded = pad_sequences(seq, maxlen=max_len)\n",
    "pred = model.predict(padded)\n",
    "labels = [0,1,2,3,4,5,6,7] \n",
    "label = labels[np.argmax(Y_test[i])]\n",
    "class_names = ['Domestic Violence', 'Femicide', 'Forced Abortion', 'Forced Marriage',\n",
    "               'Online Violence', 'Rape', 'Sex Trafficking', 'Sexual Harassment']\n",
    "\n",
    "print(\"{} {:2.0f}% ({})\".format(class_names[labels[np.argmax(pred)]],\n",
    "                                100*np.max(pred),\n",
    "                                class_names[label]))\n",
    "\n",
    "plt.figure(figsize=(9,3))\n",
    "plt.subplot(1,2,1)\n",
    "plot_value_array(i, pred,  label)\n",
    "_ = plt.xticks(range(8), class_names, rotation=90)\n",
    "plt.show()"
   ]
  },
  {
   "cell_type": "code",
   "execution_count": 37,
   "id": "8c87eebd",
   "metadata": {},
   "outputs": [
    {
     "data": {
      "image/png": "[encoded data removed]",
      "text/plain": [
       "<Figure size 540x540 with 1 Axes>"
      ]
     },
     "metadata": {
      "needs_background": "light"
     },
     "output_type": "display_data"
    }
   ],
   "source": [
    "from sklearn.metrics import confusion_matrix\n",
    "# Calculate the confusion matrix\n",
    "#\n",
    "y_pred = []\n",
    "test_label = []\n",
    "for i in range(len(pred_y)):\n",
    "    vector = np.vectorize(np.float64)\n",
    "    predY = vector(pred_y[i])\n",
    "    y_pred.append(np.argmax(predY))\n",
    "    test_label.append(np.argmax(Y_test[i]))\n",
    "\n",
    "conf_matrix = confusion_matrix(y_true=test_label, y_pred=y_pred) #, labels=class_names\n",
    "#\n",
    "# Print the confusion matrix using Matplotlib\n",
    "#\n",
    "fig, ax = plt.subplots(figsize=(7.5, 7.5))\n",
    "ax.matshow(conf_matrix, cmap=plt.cm.Blues, alpha=0.3)\n",
    "for i in range(conf_matrix.shape[0]):\n",
    "    for j in range(conf_matrix.shape[1]):\n",
    "        ax.text(x=j, y=i,s=conf_matrix[i, j], va='center', ha='center', size='xx-large')\n",
    " \n",
    "plt.xlabel('Predictions', fontsize=18)\n",
    "plt.ylabel('Actuals', fontsize=18)\n",
    "plt.title('Confusion Matrix', fontsize=18)\n",
    "plt.show()"
   ]
  },
  {
   "cell_type": "code",
   "execution_count": 38,
   "id": "227054a1",
   "metadata": {},
   "outputs": [
    {
     "name": "stdout",
     "output_type": "stream",
     "text": [
      "[[3526   24    0    0    1   12    3   11]\n",
      " [  19  151    1    2    3   45    0   14]\n",
      " [   0    1  280    0    0    4    0    0]\n",
      " [   0    3    1  571    0    7    1    1]\n",
      " [   2    2    0    0  223    3    1   22]\n",
      " [   7   35    8    7    2 5345   10   25]\n",
      " [   1    9    0    1    0   11 1341    6]\n",
      " [  17   52    1    0    6   21    4 4940]]\n",
      "                   precision    recall  f1-score   support\n",
      "\n",
      "Domestic Violence       0.99      0.99      0.99      3577\n",
      "         Femicide       0.55      0.64      0.59       235\n",
      "  Forced Abortion       0.96      0.98      0.97       285\n",
      "  Forced Marriage       0.98      0.98      0.98       584\n",
      "  Online Violence       0.95      0.88      0.91       253\n",
      "             Rape       0.98      0.98      0.98      5439\n",
      "Sexual Harassment       0.99      0.98      0.98      1369\n",
      "  Sex Trafficking       0.98      0.98      0.98      5041\n",
      "\n",
      "         accuracy                           0.98     16783\n",
      "        macro avg       0.92      0.93      0.92     16783\n",
      "     weighted avg       0.98      0.98      0.98     16783\n",
      "\n",
      "0.9758088541977\n"
     ]
    }
   ],
   "source": [
    "from sklearn.metrics import classification_report, confusion_matrix, accuracy_score\n",
    "\n",
    "print(confusion_matrix(Y_test.argmax(axis=1),pred_y.argmax(axis=1)))\n",
    "print(classification_report(Y_test.argmax(axis=1),pred_y.argmax(axis=1),target_names=class_names))\n",
    "print(accuracy_score(Y_test.argmax(axis=1),pred_y.argmax(axis=1)))"
   ]
  },
  {
   "cell_type": "code",
   "execution_count": null,
   "id": "29df6fcc",
   "metadata": {},
   "outputs": [],
   "source": []
  }
 ],
 "metadata": {
  "kernelspec": {
   "display_name": "Python 3 (ipykernel)",
   "language": "python",
   "name": "python3"
  },
  "language_info": {
   "codemirror_mode": {
    "name": "ipython",
    "version": 3
   },
   "file_extension": ".py",
   "mimetype": "text/x-python",
   "name": "python",
   "nbconvert_exporter": "python",
   "pygments_lexer": "ipython3",
   "version": "3.9.0"
  }
 },
 "nbformat": 4,
 "nbformat_minor": 5
}
