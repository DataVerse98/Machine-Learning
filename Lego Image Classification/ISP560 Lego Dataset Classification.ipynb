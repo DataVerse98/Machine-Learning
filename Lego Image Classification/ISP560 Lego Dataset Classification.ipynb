{
 "cells": [
  {
   "cell_type": "markdown",
   "id": "146807eb",
   "metadata": {},
   "source": [
    "# Lego Block Image Classification"
   ]
  },
  {
   "cell_type": "markdown",
   "id": "fa1b7a93",
   "metadata": {},
   "source": [
    "# 1. Data Preprocessing and Visualization"
   ]
  },
  {
   "cell_type": "code",
   "execution_count": 1,
   "id": "2ae69719",
   "metadata": {},
   "outputs": [],
   "source": [
    "#helper library\n",
    "import matplotlib.pyplot as plt\n",
    "import cv2\n",
    "import os\n",
    "import numpy as np\n",
    "import pandas as pd\n",
    "from pathlib import Path\n",
    "import seaborn as sns\n",
    "#import os.path\n",
    "\n",
    "# TensorFlow and tf.keras\n",
    "import tensorflow as tf\n",
    "from tensorflow.keras.preprocessing.image import ImageDataGenerator\n",
    "from tensorflow.keras.preprocessing import image\n",
    "from tensorflow.keras.optimizers import RMSprop\n",
    "\n",
    "from skimage.transform import resize\n",
    "\n",
    "from sklearn.metrics import confusion_matrix\n",
    "from sklearn.metrics import classification_report,accuracy_score\n",
    "from IPython.display import Markdown, display\n",
    "\n",
    "def printmd(string):\n",
    "    # Print with Markdowns    \n",
    "    display(Markdown(string))"
   ]
  },
  {
   "cell_type": "code",
   "execution_count": 2,
   "id": "92d42f21",
   "metadata": {},
   "outputs": [
    {
     "data": {
      "text/plain": [
       "'..\\\\ML\\\\Lego\\\\processed_data\\\\train\\\\11214 Bush 3M friction with Cross axle\\\\201706171006-0001.png'"
      ]
     },
     "execution_count": 2,
     "metadata": {},
     "output_type": "execute_result"
    }
   ],
   "source": [
    "# Create a list with the filepaths for training\n",
    "def get_path(my_path):    \n",
    "    #dir_ = Path('../ML/Lego/processed_data/train/')\n",
    "    dir_ = Path(my_path)\n",
    "    file_paths = list(dir_.glob(r'**/*.png'))\n",
    "    file_paths = [str(x) for x in file_paths]\n",
    "    df = pd.DataFrame({'Filepath':file_paths})\n",
    "    return df\n",
    "\n",
    "train_df = get_path('../ML/Lego/processed_data/train/')\n",
    "\n",
    "train_df.Filepath[0]"
   ]
  },
  {
   "cell_type": "code",
   "execution_count": 3,
   "id": "3d7ddc88",
   "metadata": {},
   "outputs": [
    {
     "data": {
      "text/html": [
       "<div>\n",
       "<style scoped>\n",
       "    .dataframe tbody tr th:only-of-type {\n",
       "        vertical-align: middle;\n",
       "    }\n",
       "\n",
       "    .dataframe tbody tr th {\n",
       "        vertical-align: top;\n",
       "    }\n",
       "\n",
       "    .dataframe thead th {\n",
       "        text-align: right;\n",
       "    }\n",
       "</style>\n",
       "<table border=\"1\" class=\"dataframe\">\n",
       "  <thead>\n",
       "    <tr style=\"text-align: right;\">\n",
       "      <th></th>\n",
       "      <th>Filepath</th>\n",
       "      <th>Label</th>\n",
       "    </tr>\n",
       "  </thead>\n",
       "  <tbody>\n",
       "    <tr>\n",
       "      <th>0</th>\n",
       "      <td>..\\ML\\Lego\\processed_data\\train\\11214 Bush 3M ...</td>\n",
       "      <td>bush 3m friction with cross axle</td>\n",
       "    </tr>\n",
       "    <tr>\n",
       "      <th>1</th>\n",
       "      <td>..\\ML\\Lego\\processed_data\\train\\11214 Bush 3M ...</td>\n",
       "      <td>bush 3m friction with cross axle</td>\n",
       "    </tr>\n",
       "    <tr>\n",
       "      <th>2</th>\n",
       "      <td>..\\ML\\Lego\\processed_data\\train\\11214 Bush 3M ...</td>\n",
       "      <td>bush 3m friction with cross axle</td>\n",
       "    </tr>\n",
       "    <tr>\n",
       "      <th>3</th>\n",
       "      <td>..\\ML\\Lego\\processed_data\\train\\11214 Bush 3M ...</td>\n",
       "      <td>bush 3m friction with cross axle</td>\n",
       "    </tr>\n",
       "    <tr>\n",
       "      <th>4</th>\n",
       "      <td>..\\ML\\Lego\\processed_data\\train\\11214 Bush 3M ...</td>\n",
       "      <td>bush 3m friction with cross axle</td>\n",
       "    </tr>\n",
       "  </tbody>\n",
       "</table>\n",
       "</div>"
      ],
      "text/plain": [
       "                                            Filepath  \\\n",
       "0  ..\\ML\\Lego\\processed_data\\train\\11214 Bush 3M ...   \n",
       "1  ..\\ML\\Lego\\processed_data\\train\\11214 Bush 3M ...   \n",
       "2  ..\\ML\\Lego\\processed_data\\train\\11214 Bush 3M ...   \n",
       "3  ..\\ML\\Lego\\processed_data\\train\\11214 Bush 3M ...   \n",
       "4  ..\\ML\\Lego\\processed_data\\train\\11214 Bush 3M ...   \n",
       "\n",
       "                              Label  \n",
       "0  bush 3m friction with cross axle  \n",
       "1  bush 3m friction with cross axle  \n",
       "2  bush 3m friction with cross axle  \n",
       "3  bush 3m friction with cross axle  \n",
       "4  bush 3m friction with cross axle  "
      ]
     },
     "execution_count": 3,
     "metadata": {},
     "output_type": "execute_result"
    }
   ],
   "source": [
    "def get_label(string):\n",
    "    string  = ' '.join(string.split('/')[-1].replace('.png', '').split(' ')[1:])\n",
    "    string = string.split('\\\\')[0]\n",
    "    string = string.lower()\n",
    "    return string\n",
    "\n",
    "# Retrieve the label from the path of the pictures\n",
    "train_df['Label'] = train_df['Filepath'].apply(lambda x: get_label(x))\n",
    "\n",
    "train_df.head()"
   ]
  },
  {
   "cell_type": "code",
   "execution_count": 4,
   "id": "52e8efad",
   "metadata": {},
   "outputs": [
    {
     "data": {
      "image/png": "[encoded data removed]",
      "text/plain": [
       "<Figure size 1080x504 with 16 Axes>"
      ]
     },
     "metadata": {},
     "output_type": "display_data"
    }
   ],
   "source": [
    "# Display some pictures of the dataset\n",
    "fig, axes = plt.subplots(nrows=4, ncols=4, figsize=(15, 7),\n",
    "                        subplot_kw={'xticks': [], 'yticks': []})\n",
    "\n",
    "for i, ax in enumerate(axes.flat):\n",
    "    ax.imshow(plt.imread(train_df.Filepath[i]))\n",
    "    ax.set_title(train_df.Label[i], fontsize = 15)\n",
    "plt.tight_layout(pad=0.5)\n",
    "plt.show()"
   ]
  },
  {
   "cell_type": "code",
   "execution_count": 5,
   "id": "b0c31998",
   "metadata": {},
   "outputs": [
    {
     "data": {
      "text/plain": [
       "(200, 200, 3)"
      ]
     },
     "execution_count": 5,
     "metadata": {},
     "output_type": "execute_result"
    }
   ],
   "source": [
    "cv2.imread(train_df.Filepath[0]).shape"
   ]
  },
  {
   "cell_type": "code",
   "execution_count": 6,
   "id": "73045d12",
   "metadata": {},
   "outputs": [
    {
     "data": {
      "text/html": [
       "<div>\n",
       "<style scoped>\n",
       "    .dataframe tbody tr th:only-of-type {\n",
       "        vertical-align: middle;\n",
       "    }\n",
       "\n",
       "    .dataframe tbody tr th {\n",
       "        vertical-align: top;\n",
       "    }\n",
       "\n",
       "    .dataframe thead th {\n",
       "        text-align: right;\n",
       "    }\n",
       "</style>\n",
       "<table border=\"1\" class=\"dataframe\">\n",
       "  <thead>\n",
       "    <tr style=\"text-align: right;\">\n",
       "      <th></th>\n",
       "      <th>Filepath</th>\n",
       "      <th>Label</th>\n",
       "    </tr>\n",
       "  </thead>\n",
       "  <tbody>\n",
       "    <tr>\n",
       "      <th>0</th>\n",
       "      <td>..\\ML\\Lego\\processed_data\\test\\11214 Bush 3M f...</td>\n",
       "      <td>bush 3m friction with cross axle</td>\n",
       "    </tr>\n",
       "    <tr>\n",
       "      <th>1</th>\n",
       "      <td>..\\ML\\Lego\\processed_data\\test\\11214 Bush 3M f...</td>\n",
       "      <td>bush 3m friction with cross axle</td>\n",
       "    </tr>\n",
       "    <tr>\n",
       "      <th>2</th>\n",
       "      <td>..\\ML\\Lego\\processed_data\\test\\11214 Bush 3M f...</td>\n",
       "      <td>bush 3m friction with cross axle</td>\n",
       "    </tr>\n",
       "    <tr>\n",
       "      <th>3</th>\n",
       "      <td>..\\ML\\Lego\\processed_data\\test\\11214 Bush 3M f...</td>\n",
       "      <td>bush 3m friction with cross axle</td>\n",
       "    </tr>\n",
       "    <tr>\n",
       "      <th>4</th>\n",
       "      <td>..\\ML\\Lego\\processed_data\\test\\11214 Bush 3M f...</td>\n",
       "      <td>bush 3m friction with cross axle</td>\n",
       "    </tr>\n",
       "  </tbody>\n",
       "</table>\n",
       "</div>"
      ],
      "text/plain": [
       "                                            Filepath  \\\n",
       "0  ..\\ML\\Lego\\processed_data\\test\\11214 Bush 3M f...   \n",
       "1  ..\\ML\\Lego\\processed_data\\test\\11214 Bush 3M f...   \n",
       "2  ..\\ML\\Lego\\processed_data\\test\\11214 Bush 3M f...   \n",
       "3  ..\\ML\\Lego\\processed_data\\test\\11214 Bush 3M f...   \n",
       "4  ..\\ML\\Lego\\processed_data\\test\\11214 Bush 3M f...   \n",
       "\n",
       "                              Label  \n",
       "0  bush 3m friction with cross axle  \n",
       "1  bush 3m friction with cross axle  \n",
       "2  bush 3m friction with cross axle  \n",
       "3  bush 3m friction with cross axle  \n",
       "4  bush 3m friction with cross axle  "
      ]
     },
     "execution_count": 6,
     "metadata": {},
     "output_type": "execute_result"
    }
   ],
   "source": [
    "test_df = get_path('../ML/Lego/processed_data/test/')\n",
    "\n",
    "# Retrieve the label from the path of the pictures\n",
    "test_df['Label'] = test_df['Filepath'].apply(lambda x: get_label(x))\n",
    "\n",
    "test_df.head()"
   ]
  },
  {
   "cell_type": "code",
   "execution_count": 7,
   "id": "7aaf725a",
   "metadata": {},
   "outputs": [
    {
     "data": {
      "text/html": [
       "<div>\n",
       "<style scoped>\n",
       "    .dataframe tbody tr th:only-of-type {\n",
       "        vertical-align: middle;\n",
       "    }\n",
       "\n",
       "    .dataframe tbody tr th {\n",
       "        vertical-align: top;\n",
       "    }\n",
       "\n",
       "    .dataframe thead th {\n",
       "        text-align: right;\n",
       "    }\n",
       "</style>\n",
       "<table border=\"1\" class=\"dataframe\">\n",
       "  <thead>\n",
       "    <tr style=\"text-align: right;\">\n",
       "      <th></th>\n",
       "      <th>Filepath</th>\n",
       "      <th>Label</th>\n",
       "    </tr>\n",
       "  </thead>\n",
       "  <tbody>\n",
       "    <tr>\n",
       "      <th>0</th>\n",
       "      <td>..\\ML\\Lego\\processed_data\\val\\11214 Bush 3M fr...</td>\n",
       "      <td>bush 3m friction with cross axle</td>\n",
       "    </tr>\n",
       "    <tr>\n",
       "      <th>1</th>\n",
       "      <td>..\\ML\\Lego\\processed_data\\val\\11214 Bush 3M fr...</td>\n",
       "      <td>bush 3m friction with cross axle</td>\n",
       "    </tr>\n",
       "    <tr>\n",
       "      <th>2</th>\n",
       "      <td>..\\ML\\Lego\\processed_data\\val\\11214 Bush 3M fr...</td>\n",
       "      <td>bush 3m friction with cross axle</td>\n",
       "    </tr>\n",
       "    <tr>\n",
       "      <th>3</th>\n",
       "      <td>..\\ML\\Lego\\processed_data\\val\\11214 Bush 3M fr...</td>\n",
       "      <td>bush 3m friction with cross axle</td>\n",
       "    </tr>\n",
       "    <tr>\n",
       "      <th>4</th>\n",
       "      <td>..\\ML\\Lego\\processed_data\\val\\11214 Bush 3M fr...</td>\n",
       "      <td>bush 3m friction with cross axle</td>\n",
       "    </tr>\n",
       "  </tbody>\n",
       "</table>\n",
       "</div>"
      ],
      "text/plain": [
       "                                            Filepath  \\\n",
       "0  ..\\ML\\Lego\\processed_data\\val\\11214 Bush 3M fr...   \n",
       "1  ..\\ML\\Lego\\processed_data\\val\\11214 Bush 3M fr...   \n",
       "2  ..\\ML\\Lego\\processed_data\\val\\11214 Bush 3M fr...   \n",
       "3  ..\\ML\\Lego\\processed_data\\val\\11214 Bush 3M fr...   \n",
       "4  ..\\ML\\Lego\\processed_data\\val\\11214 Bush 3M fr...   \n",
       "\n",
       "                              Label  \n",
       "0  bush 3m friction with cross axle  \n",
       "1  bush 3m friction with cross axle  \n",
       "2  bush 3m friction with cross axle  \n",
       "3  bush 3m friction with cross axle  \n",
       "4  bush 3m friction with cross axle  "
      ]
     },
     "execution_count": 7,
     "metadata": {},
     "output_type": "execute_result"
    }
   ],
   "source": [
    "val_df = get_path('../ML/Lego/processed_data/val/')\n",
    "\n",
    "# Retrieve the label from the path of the pictures\n",
    "val_df['Label'] = val_df['Filepath'].apply(lambda x: get_label(x))\n",
    "\n",
    "val_df.head()"
   ]
  },
  {
   "cell_type": "code",
   "execution_count": 8,
   "id": "8795f6a3",
   "metadata": {},
   "outputs": [
    {
     "name": "stdout",
     "output_type": "stream",
     "text": [
      "technic lever 3m                    240\n",
      "plate 2x2                           240\n",
      "plate 1x2                           240\n",
      "flat tile 1x2                       240\n",
      "peg 2m                              240\n",
      "brick 2x2                           240\n",
      "bush for cross axle                 240\n",
      "plate 1x2 with 1 knob               240\n",
      "cross axle 2m with snap friction    240\n",
      "plate 1x1                           240\n",
      "brick 1x1                           240\n",
      "half bush                           240\n",
      "roof tile 1x2x45deg                 240\n",
      "bush 3m friction with cross axle    240\n",
      "brick 1x2                           240\n",
      "brick corner 1x2x2                  227\n",
      "Name: Label, dtype: int64\n"
     ]
    }
   ],
   "source": [
    "vc_train = train_df['Label'].value_counts()\n",
    "print(vc_train)"
   ]
  },
  {
   "cell_type": "code",
   "execution_count": null,
   "id": "f6762e2b",
   "metadata": {},
   "outputs": [],
   "source": [
    "vc_train = train_df['Label'].value_counts()\n",
    "vc_test = test_df['Label'].value_counts()\n",
    "\n",
    "plt.figure(figsize=(20,5))\n",
    "sns.barplot(x = sorted(vc_train.index), y = vc_train, label = \"Training Data\", color='darkblue')\n",
    "sns.barplot(x = sorted(vc_test.index), y = vc_test, bottom = vc_train, label = \"Testing Data\", color='lightblue')\n",
    "\n",
    "plt.xlabel(\"Label\")\n",
    "plt.ylabel(\"Total\")\n",
    "plt.title(\"Number of sample by training group and testing group\")\n",
    "plt.legend()\n",
    "plt.show()"
   ]
  },
  {
   "cell_type": "markdown",
   "id": "9ca77f68",
   "metadata": {},
   "source": [
    "# 2. Generate training and validation dataset"
   ]
  },
  {
   "cell_type": "code",
   "execution_count": null,
   "id": "d71db5f6",
   "metadata": {},
   "outputs": [],
   "source": [
    "def resize_pad(img):\n",
    "    old_size = img.shape[:2]\n",
    "    ratio = 200. / max(old_size)\n",
    "    new_size = tuple([int(x*ratio) for x in old_size])\n",
    "    \n",
    "    img = resize(img, output_shape=new_size, mode='edge', preserve_range=True)\n",
    "    \n",
    "    delta_w = 200 - new_size[1]\n",
    "    delta_h = 200 - new_size[0]\n",
    "    padding = ((delta_h//2, delta_h-(delta_h//2)), (delta_w//2, delta_w-(delta_w//2)), (0, 0))\n",
    "    \n",
    "    img = np.pad(img, padding, 'edge')\n",
    "    \n",
    "    return img\n",
    "\n",
    "def preprocessing_train(x):\n",
    "    x = resize_pad(x)\n",
    "    return x\n",
    "\n",
    "def preprocessing_test(x):\n",
    "    x = resize_pad(x)\n",
    "    return x\n",
    "\n",
    "train_generator = ImageDataGenerator(\n",
    "                        preprocessing_function=preprocessing_train,\n",
    "                        rescale = 1/255,\n",
    "                        zoom_range=0.05,\n",
    "                        width_shift_range=0.05,\n",
    "                        height_shift_range=0.05,\n",
    "                        horizontal_flip=True,\n",
    "                        vertical_flip=True,\n",
    "                        rotation_range=90,\n",
    "                        validation_split=0.1)\n",
    "\n",
    "test_generator = ImageDataGenerator(\n",
    "                        preprocessing_function=preprocessing_test,\n",
    "                        rescale = 1/255)"
   ]
  },
  {
   "cell_type": "code",
   "execution_count": null,
   "id": "b4c914e9",
   "metadata": {},
   "outputs": [],
   "source": [
    "train_dataset = train_generator.flow_from_dataframe(dataframe=train_df,\n",
    "                                          x_col='Filepath',\n",
    "                                          y_col='Label',\n",
    "                                          color_mode='rgb',\n",
    "                                          target_size = (200,200),\n",
    "                                          batch_size = 32,\n",
    "                                          class_mode = 'categorical',\n",
    "                                          #subset='training',\n",
    "                                          seed=0)"
   ]
  },
  {
   "cell_type": "code",
   "execution_count": null,
   "id": "c87f6992",
   "metadata": {},
   "outputs": [],
   "source": [
    "validation_dataset = train_generator.flow_from_dataframe(dataframe=val_df,\n",
    "                                          x_col='Filepath',\n",
    "                                          y_col='Label',\n",
    "                                          color_mode='rgb',\n",
    "                                          target_size = (200,200),\n",
    "                                          batch_size = 32,\n",
    "                                          class_mode = 'categorical',\n",
    "                                          #subset='validation',\n",
    "                                          seed=0)"
   ]
  },
  {
   "cell_type": "code",
   "execution_count": null,
   "id": "df382ae9",
   "metadata": {},
   "outputs": [],
   "source": [
    "test_dataset = test_generator.flow_from_dataframe(dataframe = test_df,\n",
    "                                        x_col='Filepath',\n",
    "                                        y_col='Label',\n",
    "                                        color_mode='rgb',\n",
    "                                        target_size = (200,200),\n",
    "                                        batch_size = 32,\n",
    "                                        class_mode = 'categorical',\n",
    "                                        shuffle = False,\n",
    "                                        seed=0)"
   ]
  },
  {
   "cell_type": "code",
   "execution_count": null,
   "id": "3904f22e",
   "metadata": {},
   "outputs": [],
   "source": [
    "#classes\n",
    "train_dataset.class_indices"
   ]
  },
  {
   "cell_type": "code",
   "execution_count": null,
   "id": "bb27e8c9",
   "metadata": {},
   "outputs": [],
   "source": [
    "train_dataset.classes"
   ]
  },
  {
   "cell_type": "markdown",
   "id": "ddf75bac",
   "metadata": {},
   "source": [
    "# 3. Build Model\n",
    "\n",
    "Set up layers"
   ]
  },
  {
   "cell_type": "code",
   "execution_count": null,
   "id": "fe20b026",
   "metadata": {},
   "outputs": [],
   "source": [
    "model = tf.keras.models.Sequential([\n",
    "    tf.keras.layers.Conv2D(16,kernel_size=3, activation = 'relu', padding = 'same', input_shape = (200,200,3)),\n",
    "    tf.keras.layers.MaxPool2D(),\n",
    "    #\n",
    "    tf.keras.layers.Conv2D(32,kernel_size=3, padding = 'same', activation = 'relu'),\n",
    "    tf.keras.layers.MaxPool2D(),\n",
    "    #\n",
    "    tf.keras.layers.Conv2D(64,kernel_size=3, padding = 'same', activation = 'relu'),\n",
    "    tf.keras.layers.MaxPool2D(),\n",
    "    #\n",
    "    tf.keras.layers.Flatten(),\n",
    "    ##\n",
    "    tf.keras.layers.Dense(512, activation = 'relu'),\n",
    "    ##\n",
    "    tf.keras.layers.Dense(128, activation = 'relu'),\n",
    "    ##\n",
    "    tf.keras.layers.Dense(16, activation='softmax')\n",
    "    ])\n",
    "\n",
    "model.summary()"
   ]
  },
  {
   "cell_type": "code",
   "execution_count": null,
   "id": "fcf292a5",
   "metadata": {},
   "outputs": [],
   "source": [
    "model.compile(loss= 'categorical_crossentropy',\n",
    "              optimizer='adam',\n",
    "             metrics = ['accuracy'])"
   ]
  },
  {
   "cell_type": "code",
   "execution_count": null,
   "id": "f0166a07",
   "metadata": {},
   "outputs": [],
   "source": [
    "model_fit = model.fit(train_dataset, epochs = 20, validation_data = validation_dataset)"
   ]
  },
  {
   "cell_type": "markdown",
   "id": "72d60ab0",
   "metadata": {},
   "source": [
    "# 4. Make Predictions"
   ]
  },
  {
   "cell_type": "code",
   "execution_count": null,
   "id": "0fdea4b0",
   "metadata": {},
   "outputs": [],
   "source": [
    "fig, axes = plt.subplots(2, 1, figsize=(15, 10))\n",
    "ax = axes.flat\n",
    "\n",
    "pd.DataFrame(model_fit.history)[['accuracy','val_accuracy']].plot(ax=ax[0])\n",
    "ax[0].set_title(\"Accuracy\", fontsize = 15)\n",
    "ax[0].set_ylim(0,1.1)\n",
    "\n",
    "pd.DataFrame(model_fit.history)[['loss','val_loss']].plot(ax=ax[1])\n",
    "ax[1].set_title(\"Loss\", fontsize = 15)\n",
    "plt.show()"
   ]
  },
  {
   "cell_type": "code",
   "execution_count": null,
   "id": "e37247ef",
   "metadata": {},
   "outputs": [],
   "source": [
    "# Predict the label of the test_images\n",
    "pred = model.predict(test_dataset)\n",
    "pred = np.argmax(pred,axis=1)\n",
    "\n",
    "# Map the label\n",
    "labels = (train_dataset.class_indices)\n",
    "labels = dict((v,k) for k,v in labels.items())\n",
    "pred = [labels[k] for k in pred]\n",
    "\n",
    "# Get the accuracy on the test set\n",
    "y_test = list(test_df.Label)\n",
    "acc = accuracy_score(y_test,pred)\n",
    "\n",
    "# Display the results\n",
    "printmd(f'## Model with {acc*100:.2f}% accuracy on the test set') #: {best_model[0]}"
   ]
  },
  {
   "cell_type": "markdown",
   "id": "2df54f6b",
   "metadata": {},
   "source": [
    "# 5. Verify Prediction"
   ]
  },
  {
   "cell_type": "code",
   "execution_count": null,
   "id": "9d986fcf",
   "metadata": {},
   "outputs": [],
   "source": [
    "# Display a confusion matrix\n",
    "cf_matrix = confusion_matrix(y_test, pred, normalize='true')\n",
    "plt.figure(figsize = (20,15))\n",
    "sns.heatmap(cf_matrix, annot=True, xticklabels = sorted(set(y_test)), yticklabels = sorted(set(y_test)),cbar=False)\n",
    "plt.title('Normalized Confusion Matrix', fontsize = 23)\n",
    "plt.xticks(fontsize=12,rotation=90)\n",
    "plt.yticks(fontsize=12)\n",
    "plt.show()"
   ]
  },
  {
   "cell_type": "code",
   "execution_count": null,
   "id": "95fc3db0",
   "metadata": {},
   "outputs": [],
   "source": [
    "# Display picture of the dataset with their labels\n",
    "fig, axes = plt.subplots(nrows=3, ncols=3, figsize=(20, 12),\n",
    "                        subplot_kw={'xticks': [], 'yticks': []})\n",
    "\n",
    "for i, ax in enumerate(axes.flat):\n",
    "    ax.imshow(plt.imread(test_df.Filepath.iloc[i]))\n",
    "    ax.set_title(f\"True: {test_df.Label.iloc[i].split('_')[0]}\\nPredicted: {pred[i].split('_')[0]}\", fontsize = 15)\n",
    "plt.tight_layout()\n",
    "plt.show()"
   ]
  },
  {
   "cell_type": "code",
   "execution_count": null,
   "id": "487e76db",
   "metadata": {},
   "outputs": [],
   "source": [
    "pred_df = pd.DataFrame({'Prediction':pred})\n",
    "test_df = test_df.join(pred_df['Prediction'])\n",
    "test_df.head()\n",
    "\n",
    "test_df.to_csv(\"result.csv\",header=True,index=False)"
   ]
  },
  {
   "cell_type": "code",
   "execution_count": null,
   "id": "be694223",
   "metadata": {},
   "outputs": [],
   "source": []
  }
 ],
 "metadata": {
  "kernelspec": {
   "display_name": "Python 3",
   "language": "python",
   "name": "python3"
  },
  "language_info": {
   "codemirror_mode": {
    "name": "ipython",
    "version": 3
   },
   "file_extension": ".py",
   "mimetype": "text/x-python",
   "name": "python",
   "nbconvert_exporter": "python",
   "pygments_lexer": "ipython3",
   "version": "3.8.10"
  }
 },
 "nbformat": 4,
 "nbformat_minor": 5
}
