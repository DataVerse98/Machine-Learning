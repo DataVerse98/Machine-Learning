{
 "cells": [
  {
   "cell_type": "markdown",
   "id": "3e98dafc",
   "metadata": {},
   "source": [
    "# LSTM Without GloVe"
   ]
  },
  {
   "cell_type": "code",
   "execution_count": 1,
   "id": "e8749785",
   "metadata": {},
   "outputs": [],
   "source": [
    "import os\n",
    "import re\n",
    "import shutil\n",
    "import string\n",
    "\n",
    "import pandas as pd\n",
    "import numpy as np"
   ]
  },
  {
   "cell_type": "markdown",
   "id": "cdd88466",
   "metadata": {},
   "source": [
    "Read Cleaned Dataset"
   ]
  },
  {
   "cell_type": "code",
   "execution_count": 2,
   "id": "d71819b6",
   "metadata": {},
   "outputs": [
    {
     "data": {
      "text/html": [
       "<div>\n",
       "<style scoped>\n",
       "    .dataframe tbody tr th:only-of-type {\n",
       "        vertical-align: middle;\n",
       "    }\n",
       "\n",
       "    .dataframe tbody tr th {\n",
       "        vertical-align: top;\n",
       "    }\n",
       "\n",
       "    .dataframe thead th {\n",
       "        text-align: right;\n",
       "    }\n",
       "</style>\n",
       "<table border=\"1\" class=\"dataframe\">\n",
       "  <thead>\n",
       "    <tr style=\"text-align: right;\">\n",
       "      <th></th>\n",
       "      <th>Unnamed: 0.1</th>\n",
       "      <th>Unnamed: 0</th>\n",
       "      <th>tweet</th>\n",
       "      <th>Label</th>\n",
       "      <th>clean_tweet</th>\n",
       "      <th>clean_tweet2</th>\n",
       "    </tr>\n",
       "  </thead>\n",
       "  <tbody>\n",
       "    <tr>\n",
       "      <th>0</th>\n",
       "      <td>0</td>\n",
       "      <td>90896</td>\n",
       "      <td>Th blizzards R landing all over th ceiling, wa...</td>\n",
       "      <td>Sex Trafficking</td>\n",
       "      <td>blizzards landing all over ceiling walls and f...</td>\n",
       "      <td>blizzards landing ceiling walls floor country ...</td>\n",
       "    </tr>\n",
       "    <tr>\n",
       "      <th>1</th>\n",
       "      <td>1</td>\n",
       "      <td>47283</td>\n",
       "      <td>@LALewman What the dimwits fail to acknowledge...</td>\n",
       "      <td>Rape</td>\n",
       "      <td>what the dimwits fail acknowledge that ectopic...</td>\n",
       "      <td>dimwits fail acknowledge ectopic pregnancy kil...</td>\n",
       "    </tr>\n",
       "    <tr>\n",
       "      <th>2</th>\n",
       "      <td>2</td>\n",
       "      <td>33330</td>\n",
       "      <td>Good to know that @bbcnews @bbcworldservice do...</td>\n",
       "      <td>Rape</td>\n",
       "      <td>good know that not care about the rape women a...</td>\n",
       "      <td>good know not care rape women girls not russia...</td>\n",
       "    </tr>\n",
       "    <tr>\n",
       "      <th>3</th>\n",
       "      <td>3</td>\n",
       "      <td>48737</td>\n",
       "      <td>S/O to all of you who want Roe V Wade overturn...</td>\n",
       "      <td>Rape</td>\n",
       "      <td>all you who want roe wade overturned and who g...</td>\n",
       "      <td>want roe wade overturned guess providing finan...</td>\n",
       "    </tr>\n",
       "    <tr>\n",
       "      <th>4</th>\n",
       "      <td>4</td>\n",
       "      <td>92382</td>\n",
       "      <td>@Mr_Macaaroni Sex worker industry fuels human ...</td>\n",
       "      <td>Sex Trafficking</td>\n",
       "      <td>sex worker industry fuels human trafficking th...</td>\n",
       "      <td>sex worker industry fuels human trafficking ca...</td>\n",
       "    </tr>\n",
       "    <tr>\n",
       "      <th>...</th>\n",
       "      <td>...</td>\n",
       "      <td>...</td>\n",
       "      <td>...</td>\n",
       "      <td>...</td>\n",
       "      <td>...</td>\n",
       "      <td>...</td>\n",
       "    </tr>\n",
       "    <tr>\n",
       "      <th>85692</th>\n",
       "      <td>85692</td>\n",
       "      <td>91446</td>\n",
       "      <td>Sex trafficking is bad for the economy!!!!</td>\n",
       "      <td>Sex Trafficking</td>\n",
       "      <td>sex trafficking bad for the economy</td>\n",
       "      <td>sex trafficking bad economy</td>\n",
       "    </tr>\n",
       "    <tr>\n",
       "      <th>85693</th>\n",
       "      <td>85693</td>\n",
       "      <td>74923</td>\n",
       "      <td>@bassie_hd @MAJDAL774632662 @lion_4_zion @AD_G...</td>\n",
       "      <td>Sexual Harassment</td>\n",
       "      <td>seems that your mind intellectually polluted a...</td>\n",
       "      <td>seems mind intellectually polluted carries not...</td>\n",
       "    </tr>\n",
       "    <tr>\n",
       "      <th>85694</th>\n",
       "      <td>85694</td>\n",
       "      <td>4357</td>\n",
       "      <td>@Redlizzieredd @todd_spader Domestic Violence ...</td>\n",
       "      <td>Domestic Violence</td>\n",
       "      <td>domestic violence needs outlet they should gym...</td>\n",
       "      <td>domestic violence needs outlet gym feeling str...</td>\n",
       "    </tr>\n",
       "    <tr>\n",
       "      <th>85695</th>\n",
       "      <td>85695</td>\n",
       "      <td>41500</td>\n",
       "      <td>@Steevec10 @theJagmeetSingh It's 9 months out ...</td>\n",
       "      <td>Rape</td>\n",
       "      <td>months out her entire life you should not murd...</td>\n",
       "      <td>months entire life not murder baby someone els...</td>\n",
       "    </tr>\n",
       "    <tr>\n",
       "      <th>85696</th>\n",
       "      <td>85696</td>\n",
       "      <td>3886</td>\n",
       "      <td>@dontlickchalk Not a current owner, not advers...</td>\n",
       "      <td>Domestic Violence</td>\n",
       "      <td>not current owner not adverse owning grew arou...</td>\n",
       "      <td>not current owner not adverse owning grew arou...</td>\n",
       "    </tr>\n",
       "  </tbody>\n",
       "</table>\n",
       "<p>85697 rows × 6 columns</p>\n",
       "</div>"
      ],
      "text/plain": [
       "       Unnamed: 0.1  Unnamed: 0  \\\n",
       "0                 0       90896   \n",
       "1                 1       47283   \n",
       "2                 2       33330   \n",
       "3                 3       48737   \n",
       "4                 4       92382   \n",
       "...             ...         ...   \n",
       "85692         85692       91446   \n",
       "85693         85693       74923   \n",
       "85694         85694        4357   \n",
       "85695         85695       41500   \n",
       "85696         85696        3886   \n",
       "\n",
       "                                                   tweet              Label  \\\n",
       "0      Th blizzards R landing all over th ceiling, wa...    Sex Trafficking   \n",
       "1      @LALewman What the dimwits fail to acknowledge...               Rape   \n",
       "2      Good to know that @bbcnews @bbcworldservice do...               Rape   \n",
       "3      S/O to all of you who want Roe V Wade overturn...               Rape   \n",
       "4      @Mr_Macaaroni Sex worker industry fuels human ...    Sex Trafficking   \n",
       "...                                                  ...                ...   \n",
       "85692         Sex trafficking is bad for the economy!!!!    Sex Trafficking   \n",
       "85693  @bassie_hd @MAJDAL774632662 @lion_4_zion @AD_G...  Sexual Harassment   \n",
       "85694  @Redlizzieredd @todd_spader Domestic Violence ...  Domestic Violence   \n",
       "85695  @Steevec10 @theJagmeetSingh It's 9 months out ...               Rape   \n",
       "85696  @dontlickchalk Not a current owner, not advers...  Domestic Violence   \n",
       "\n",
       "                                             clean_tweet  \\\n",
       "0      blizzards landing all over ceiling walls and f...   \n",
       "1      what the dimwits fail acknowledge that ectopic...   \n",
       "2      good know that not care about the rape women a...   \n",
       "3      all you who want roe wade overturned and who g...   \n",
       "4      sex worker industry fuels human trafficking th...   \n",
       "...                                                  ...   \n",
       "85692                sex trafficking bad for the economy   \n",
       "85693  seems that your mind intellectually polluted a...   \n",
       "85694  domestic violence needs outlet they should gym...   \n",
       "85695  months out her entire life you should not murd...   \n",
       "85696  not current owner not adverse owning grew arou...   \n",
       "\n",
       "                                            clean_tweet2  \n",
       "0      blizzards landing ceiling walls floor country ...  \n",
       "1      dimwits fail acknowledge ectopic pregnancy kil...  \n",
       "2      good know not care rape women girls not russia...  \n",
       "3      want roe wade overturned guess providing finan...  \n",
       "4      sex worker industry fuels human trafficking ca...  \n",
       "...                                                  ...  \n",
       "85692                        sex trafficking bad economy  \n",
       "85693  seems mind intellectually polluted carries not...  \n",
       "85694  domestic violence needs outlet gym feeling str...  \n",
       "85695  months entire life not murder baby someone els...  \n",
       "85696  not current owner not adverse owning grew arou...  \n",
       "\n",
       "[85697 rows x 6 columns]"
      ]
     },
     "execution_count": 2,
     "metadata": {},
     "output_type": "execute_result"
    }
   ],
   "source": [
    "df = pd.read_csv('cleaned_df.csv')\n",
    "\n",
    "df"
   ]
  },
  {
   "cell_type": "markdown",
   "id": "7321d3f5",
   "metadata": {},
   "source": [
    "Find Maximum Sentences Length"
   ]
  },
  {
   "cell_type": "code",
   "execution_count": 3,
   "id": "7a3c2c4e",
   "metadata": {},
   "outputs": [
    {
     "name": "stdout",
     "output_type": "stream",
     "text": [
      "Dataset Max Sentence Length :42\n"
     ]
    }
   ],
   "source": [
    "df['Num_words_text'] = df['clean_tweet2'].apply(lambda x:len(str(x).split())) \n",
    "mask = df['Num_words_text'] >2\n",
    "df = df[mask]\n",
    "max_dataset_sentence_length  = df['Num_words_text'].max()\n",
    "print('Dataset Max Sentence Length :'+str(max_dataset_sentence_length))"
   ]
  },
  {
   "cell_type": "markdown",
   "id": "adf45399",
   "metadata": {},
   "source": [
    "Find Number of Words"
   ]
  },
  {
   "cell_type": "code",
   "execution_count": 4,
   "id": "44b75900",
   "metadata": {},
   "outputs": [],
   "source": [
    "from nltk.tokenize import word_tokenize\n",
    "import nltk\n",
    "\n",
    "def create_corpus_tk(my_df):\n",
    "    corpus = []\n",
    "    for text in my_df[\"clean_tweet2\"]:\n",
    "        words = [word.lower() for word in word_tokenize(text)]\n",
    "        corpus.append(words)\n",
    "    return corpus"
   ]
  },
  {
   "cell_type": "code",
   "execution_count": 5,
   "id": "5bdb3b56",
   "metadata": {},
   "outputs": [
    {
     "name": "stdout",
     "output_type": "stream",
     "text": [
      "83914\n"
     ]
    }
   ],
   "source": [
    "corpus = create_corpus_tk(df)\n",
    "\n",
    "num_words = len(corpus)\n",
    "print(num_words)"
   ]
  },
  {
   "cell_type": "markdown",
   "id": "cb2c0a30",
   "metadata": {},
   "source": [
    "## Train/Test Split"
   ]
  },
  {
   "cell_type": "code",
   "execution_count": 6,
   "id": "9ed7f783",
   "metadata": {},
   "outputs": [],
   "source": [
    "from sklearn.model_selection import train_test_split\n",
    "\n",
    "X = df['clean_tweet2']\n",
    "Y = pd.get_dummies(df['Label']).values\n",
    "\n",
    "X_train, X_test, Y_train, Y_test = train_test_split(X, Y, test_size = 0.20, random_state = 42) #shuffle = False)"
   ]
  },
  {
   "cell_type": "markdown",
   "id": "7cc7dfdb",
   "metadata": {},
   "source": [
    "## Tokenization"
   ]
  },
  {
   "cell_type": "code",
   "execution_count": 7,
   "id": "09622c1c",
   "metadata": {},
   "outputs": [],
   "source": [
    "from keras.preprocessing.text import Tokenizer\n",
    "from keras.preprocessing.sequence import pad_sequences\n",
    "\n",
    "max_len = 50"
   ]
  },
  {
   "cell_type": "code",
   "execution_count": 8,
   "id": "ae4887fa",
   "metadata": {},
   "outputs": [],
   "source": [
    "tokenizer = Tokenizer(num_words=num_words)\n",
    "tokenizer.fit_on_texts(X_train)"
   ]
  },
  {
   "cell_type": "code",
   "execution_count": 9,
   "id": "672c0825",
   "metadata": {},
   "outputs": [],
   "source": [
    "train_sequences = tokenizer.texts_to_sequences(X_train)"
   ]
  },
  {
   "cell_type": "code",
   "execution_count": 10,
   "id": "15346a26",
   "metadata": {},
   "outputs": [],
   "source": [
    "train_padded = pad_sequences(\n",
    "    train_sequences, maxlen=max_len, truncating=\"post\", padding=\"post\"\n",
    ")"
   ]
  },
  {
   "cell_type": "code",
   "execution_count": 11,
   "id": "b85b198e",
   "metadata": {},
   "outputs": [],
   "source": [
    "test_sequences = tokenizer.texts_to_sequences(X_test)\n",
    "test_padded = pad_sequences(\n",
    "    test_sequences, maxlen=max_len, truncating=\"post\", padding=\"post\"\n",
    ")"
   ]
  },
  {
   "cell_type": "code",
   "execution_count": 12,
   "id": "39be45b2",
   "metadata": {},
   "outputs": [
    {
     "name": "stdout",
     "output_type": "stream",
     "text": [
      "Number of unique words:  48798\n"
     ]
    }
   ],
   "source": [
    "word_index = tokenizer.word_index\n",
    "print(\"Number of unique words: \", len(word_index))"
   ]
  },
  {
   "cell_type": "markdown",
   "id": "2205f22d",
   "metadata": {},
   "source": [
    "## LSTM Model Without GloVe"
   ]
  },
  {
   "cell_type": "code",
   "execution_count": 15,
   "id": "a2c6ed03",
   "metadata": {},
   "outputs": [
    {
     "name": "stdout",
     "output_type": "stream",
     "text": [
      "Model: \"sequential\"\n",
      "_________________________________________________________________\n",
      " Layer (type)                Output Shape              Param #   \n",
      "=================================================================\n",
      " embedding (Embedding)       (None, 50, 100)           8391400   \n",
      "                                                                 \n",
      " lstm (LSTM)                 (None, 100)               80400     \n",
      "                                                                 \n",
      " dense (Dense)               (None, 100)               10100     \n",
      "                                                                 \n",
      " dense_1 (Dense)             (None, 8)                 808       \n",
      "                                                                 \n",
      "=================================================================\n",
      "Total params: 8,482,708\n",
      "Trainable params: 8,482,708\n",
      "Non-trainable params: 0\n",
      "_________________________________________________________________\n",
      "None\n"
     ]
    }
   ],
   "source": [
    "from keras.models import Sequential\n",
    "from keras.layers import Embedding, LSTM, Dense\n",
    "from tensorflow.keras.optimizers import Adam\n",
    "\n",
    "EMBEDDING_DIM = 100\n",
    "\n",
    "model = Sequential()\n",
    "model.add(Embedding(num_words, EMBEDDING_DIM, input_length=train_padded.shape[1]))\n",
    "model.add(LSTM(100)) #dropout=0.1, recurrent_dropout=0.2\n",
    "model.add(Dense(100, activation='relu'))\n",
    "model.add(Dense(8, activation='softmax'))\n",
    "\n",
    "optimizer = Adam(learning_rate=3e-4)\n",
    "\n",
    "model.compile(loss=\"categorical_crossentropy\", optimizer=optimizer, metrics=[\"accuracy\"])\n",
    "print(model.summary())"
   ]
  },
  {
   "cell_type": "code",
   "execution_count": 16,
   "id": "97cc99a6",
   "metadata": {},
   "outputs": [
    {
     "name": "stdout",
     "output_type": "stream",
     "text": [
      "Epoch 1/20\n",
      "1889/1889 [==============================] - 231s 121ms/step - loss: 0.3031 - accuracy: 0.3418 - val_loss: 0.1823 - val_accuracy: 0.6412\n",
      "Epoch 2/20\n",
      "1889/1889 [==============================] - 317s 168ms/step - loss: 0.0771 - accuracy: 0.8896 - val_loss: 0.0549 - val_accuracy: 0.9144\n",
      "Epoch 3/20\n",
      "1889/1889 [==============================] - 333s 176ms/step - loss: 0.0327 - accuracy: 0.9494 - val_loss: 0.0281 - val_accuracy: 0.9593\n",
      "Epoch 4/20\n",
      "1889/1889 [==============================] - 342s 181ms/step - loss: 0.0189 - accuracy: 0.9737 - val_loss: 0.0253 - val_accuracy: 0.9641\n",
      "Epoch 5/20\n",
      "1889/1889 [==============================] - 311s 165ms/step - loss: 0.0123 - accuracy: 0.9843 - val_loss: 0.0216 - val_accuracy: 0.9724\n",
      "Epoch 6/20\n",
      "1889/1889 [==============================] - 331s 175ms/step - loss: 0.0083 - accuracy: 0.9894 - val_loss: 0.0210 - val_accuracy: 0.9745\n",
      "Epoch 7/20\n",
      "1889/1889 [==============================] - 333s 176ms/step - loss: 0.0066 - accuracy: 0.9919 - val_loss: 0.0235 - val_accuracy: 0.9736\n",
      "Epoch 8/20\n",
      "1889/1889 [==============================] - 319s 169ms/step - loss: 0.0048 - accuracy: 0.9944 - val_loss: 0.0255 - val_accuracy: 0.9711\n",
      "Epoch 9/20\n",
      "1889/1889 [==============================] - 314s 166ms/step - loss: 0.0035 - accuracy: 0.9962 - val_loss: 0.0228 - val_accuracy: 0.9763\n",
      "Epoch 10/20\n",
      "1889/1889 [==============================] - 341s 181ms/step - loss: 0.0029 - accuracy: 0.9970 - val_loss: 0.0205 - val_accuracy: 0.9747\n",
      "Epoch 11/20\n",
      "1889/1889 [==============================] - 364s 193ms/step - loss: 0.0019 - accuracy: 0.9980 - val_loss: 0.0261 - val_accuracy: 0.9757\n",
      "Epoch 12/20\n",
      "1889/1889 [==============================] - 353s 187ms/step - loss: 0.0016 - accuracy: 0.9985 - val_loss: 0.0289 - val_accuracy: 0.9730\n",
      "Epoch 13/20\n",
      "1889/1889 [==============================] - 344s 182ms/step - loss: 0.0015 - accuracy: 0.9984 - val_loss: 0.0251 - val_accuracy: 0.9772\n",
      "Epoch 14/20\n",
      "1889/1889 [==============================] - 332s 176ms/step - loss: 0.0011 - accuracy: 0.9991 - val_loss: 0.0278 - val_accuracy: 0.9791\n",
      "Epoch 15/20\n",
      "1889/1889 [==============================] - 333s 176ms/step - loss: 0.0011 - accuracy: 0.9989 - val_loss: 0.0271 - val_accuracy: 0.9787\n",
      "Epoch 16/20\n",
      "1889/1889 [==============================] - 348s 184ms/step - loss: 8.6601e-04 - accuracy: 0.9992 - val_loss: 0.0248 - val_accuracy: 0.9775\n",
      "Epoch 17/20\n",
      "1889/1889 [==============================] - 340s 180ms/step - loss: 9.0707e-04 - accuracy: 0.9992 - val_loss: 0.0267 - val_accuracy: 0.9769\n",
      "Epoch 18/20\n",
      "1889/1889 [==============================] - 318s 169ms/step - loss: 6.1702e-04 - accuracy: 0.9994 - val_loss: 0.0315 - val_accuracy: 0.9763\n",
      "Epoch 19/20\n",
      "1889/1889 [==============================] - 348s 184ms/step - loss: 6.8022e-04 - accuracy: 0.9994 - val_loss: 0.0315 - val_accuracy: 0.9774\n",
      "Epoch 20/20\n",
      "1889/1889 [==============================] - 366s 193ms/step - loss: 4.9133e-04 - accuracy: 0.9995 - val_loss: 0.0287 - val_accuracy: 0.9781\n"
     ]
    }
   ],
   "source": [
    "history = model.fit(\n",
    "    train_padded,\n",
    "    Y_train,\n",
    "    epochs=20,\n",
    "    validation_split=0.1,\n",
    "    #validation_data=(test_padded, Y_test),\n",
    "    verbose=1,\n",
    ")"
   ]
  },
  {
   "cell_type": "markdown",
   "id": "d07f6758",
   "metadata": {},
   "source": [
    "## Save Model"
   ]
  },
  {
   "cell_type": "code",
   "execution_count": 17,
   "id": "c69501c6",
   "metadata": {},
   "outputs": [
    {
     "name": "stderr",
     "output_type": "stream",
     "text": [
      "WARNING:absl:Found untraced functions such as lstm_cell_layer_call_fn, lstm_cell_layer_call_and_return_conditional_losses while saving (showing 2 of 2). These functions will not be directly callable after loading.\n"
     ]
    },
    {
     "name": "stdout",
     "output_type": "stream",
     "text": [
      "INFO:tensorflow:Assets written to: lstm_model2\\assets\n"
     ]
    },
    {
     "name": "stderr",
     "output_type": "stream",
     "text": [
      "INFO:tensorflow:Assets written to: lstm_model2\\assets\n",
      "WARNING:absl:<keras.layers.recurrent.LSTMCell object at 0x0000029A6B23F160> has the same name 'LSTMCell' as a built-in Keras object. Consider renaming <class 'keras.layers.recurrent.LSTMCell'> to avoid naming conflicts when loading with `tf.keras.models.load_model`. If renaming is not possible, pass the object in the `custom_objects` parameter of the load function.\n"
     ]
    }
   ],
   "source": [
    "from tensorflow import keras\n",
    "\n",
    "model.save('lstm_model2')\n",
    "model = keras.models.load_model('lstm_model2')"
   ]
  },
  {
   "cell_type": "code",
   "execution_count": 18,
   "id": "d4f2eeb6",
   "metadata": {},
   "outputs": [],
   "source": [
    "import json\n",
    "\n",
    "with open('lstm_history2.json', 'w') as f:\n",
    "    json.dump(history.history, f)"
   ]
  },
  {
   "cell_type": "code",
   "execution_count": 1,
   "id": "61f15c55",
   "metadata": {},
   "outputs": [],
   "source": [
    "import json\n",
    "\n",
    "f = open('lstm_history2.json')\n",
    "history = json.load(f)"
   ]
  },
  {
   "cell_type": "code",
   "execution_count": null,
   "id": "5f962cc9",
   "metadata": {},
   "outputs": [],
   "source": [
    "history??"
   ]
  },
  {
   "cell_type": "markdown",
   "id": "b05be391",
   "metadata": {},
   "source": [
    "## Evaluation"
   ]
  },
  {
   "cell_type": "code",
   "execution_count": 20,
   "id": "7fc09964",
   "metadata": {},
   "outputs": [
    {
     "name": "stdout",
     "output_type": "stream",
     "text": [
      "525/525 [==============================] - 10s 18ms/step - loss: 0.0281 - accuracy: 0.9800\n",
      "Test set\n",
      "  Loss: 0.028\n",
      "  Accuracy: 0.980\n"
     ]
    }
   ],
   "source": [
    "accr = model.evaluate(test_padded,Y_test)\n",
    "print('Test set\\n  Loss: {:0.3f}\\n  Accuracy: {:0.3f}'.format(accr[0],accr[1]))"
   ]
  },
  {
   "cell_type": "code",
   "execution_count": 2,
   "id": "f9e8b62f",
   "metadata": {},
   "outputs": [
    {
     "data": {
      "image/png": "[encoded data removed]",
      "text/plain": [
       "<Figure size 432x288 with 1 Axes>"
      ]
     },
     "metadata": {
      "needs_background": "light"
     },
     "output_type": "display_data"
    }
   ],
   "source": [
    "import matplotlib.pyplot as plt\n",
    "\n",
    "plt.title('Loss')\n",
    "plt.plot(history['loss'], label='train')\n",
    "plt.plot(history['val_loss'], label='test')\n",
    "plt.xlabel('Epoch Number')\n",
    "plt.ylabel('Loss')\n",
    "plt.legend()\n",
    "plt.show();"
   ]
  },
  {
   "cell_type": "code",
   "execution_count": 3,
   "id": "355668e7",
   "metadata": {},
   "outputs": [
    {
     "data": {
      "image/png": "[encoded data removed]",
      "text/plain": [
       "<Figure size 432x288 with 1 Axes>"
      ]
     },
     "metadata": {
      "needs_background": "light"
     },
     "output_type": "display_data"
    }
   ],
   "source": [
    "plt.title('Accuracy')\n",
    "plt.plot(history['accuracy'], label='train')\n",
    "plt.plot(history['val_accuracy'], label='test')\n",
    "plt.xlabel('Epoch Number')\n",
    "plt.ylabel('Accuracy')\n",
    "plt.legend()\n",
    "plt.show();"
   ]
  },
  {
   "cell_type": "code",
   "execution_count": 23,
   "id": "0b0279f1",
   "metadata": {},
   "outputs": [],
   "source": [
    "sequences = tokenizer.texts_to_sequences(X_test)\n",
    "padded_y = pad_sequences(sequences, maxlen=max_len, padding=\"post\", truncating=\"post\")"
   ]
  },
  {
   "cell_type": "code",
   "execution_count": 24,
   "id": "ec6e16a7",
   "metadata": {},
   "outputs": [],
   "source": [
    "pred_y = model.predict(padded_y)\n",
    "pred_y_int = pred_y.round().astype(\"int\")"
   ]
  },
  {
   "cell_type": "code",
   "execution_count": 25,
   "id": "c71808e7",
   "metadata": {},
   "outputs": [],
   "source": [
    "import matplotlib.pyplot as plt\n",
    "\n",
    "def plot_value_array(i, predictions_array, true_label):\n",
    "  labels = [0,1,2,3,4,5,6,7] #['Domestic Violence', 'Rape', 'Sexual Harassment', 'Sex Trafficking', 'Forced Marriage', \n",
    "          #'Online Violence', 'femicide', 'forced abortion']\n",
    "  true_label = true_label\n",
    "  plt.grid(False)\n",
    "  plt.xticks(range(8))\n",
    "  plt.yticks([])\n",
    "  vector = np.vectorize(np.float64)\n",
    "  h = vector(predictions_array.reshape(1, -1))\n",
    "  thisplot = plt.bar(range(8), h[0], color=\"#777777\")\n",
    "  plt.ylim([0, 1])\n",
    "  predicted_label = labels[np.argmax(predictions_array.reshape(1, -1))]\n",
    "\n",
    "  thisplot[predicted_label].set_color('red')\n",
    "  thisplot[true_label].set_color('blue')"
   ]
  },
  {
   "cell_type": "code",
   "execution_count": 26,
   "id": "ce595f68",
   "metadata": {},
   "outputs": [
    {
     "name": "stdout",
     "output_type": "stream",
     "text": [
      "men emotions men experience abuse domestic violence men able express feelings report abuse vocal praying every man going thru something silently\n",
      "Femicide 95% (Domestic Violence)\n"
     ]
    },
    {
     "data": {
      "image/png": "[encoded data removed]",
      "text/plain": [
       "<Figure size 648x216 with 1 Axes>"
      ]
     },
     "metadata": {
      "needs_background": "light"
     },
     "output_type": "display_data"
    }
   ],
   "source": [
    "#print(pred, labels[np.argmax(pred)])\n",
    "\n",
    "i = 5000\n",
    "reverse_word_index = dict([(value, key) for (key, value) in word_index.items()])\n",
    "\n",
    "def decode(text):\n",
    "    return \" \".join([reverse_word_index.get(i, \"?\") for i in text])\n",
    "\n",
    "my_word = decode(sequences[i])\n",
    "print(my_word)\n",
    "new_data = [my_word]\n",
    "seq = tokenizer.texts_to_sequences(new_data)\n",
    "padded = pad_sequences(seq, maxlen=max_len)\n",
    "pred = model.predict(padded)\n",
    "labels = [0,1,2,3,4,5,6,7] \n",
    "label = labels[np.argmax(Y_test[i])]\n",
    "class_names = ['Domestic Violence', 'Femicide', 'Forced Abortion', 'Forced Marriage',\n",
    "               'Online Violence', 'Rape', 'Sexual Harassment', 'Sex Trafficking']\n",
    "\n",
    "print(\"{} {:2.0f}% ({})\".format(class_names[labels[np.argmax(pred)]],\n",
    "                                100*np.max(pred),\n",
    "                                class_names[label]))\n",
    "\n",
    "plt.figure(figsize=(9,3))\n",
    "plt.subplot(1,2,1)\n",
    "plot_value_array(i, pred,  label)\n",
    "_ = plt.xticks(range(8), class_names, rotation=90)\n",
    "plt.show()"
   ]
  },
  {
   "cell_type": "code",
   "execution_count": 27,
   "id": "a934eec3",
   "metadata": {},
   "outputs": [
    {
     "data": {
      "image/png": "[encoded data removed]",
      "text/plain": [
       "<Figure size 540x540 with 1 Axes>"
      ]
     },
     "metadata": {
      "needs_background": "light"
     },
     "output_type": "display_data"
    }
   ],
   "source": [
    "from sklearn.metrics import confusion_matrix\n",
    "# Calculate the confusion matrix\n",
    "#\n",
    "y_pred = []\n",
    "test_label = []\n",
    "for i in range(len(pred_y)):\n",
    "    vector = np.vectorize(np.float64)\n",
    "    predY = vector(pred_y[i])\n",
    "    y_pred.append(np.argmax(predY))\n",
    "    test_label.append(np.argmax(Y_test[i]))\n",
    "\n",
    "conf_matrix = confusion_matrix(y_true=test_label, y_pred=y_pred) #, labels=class_names\n",
    "#\n",
    "# Print the confusion matrix using Matplotlib\n",
    "#\n",
    "fig, ax = plt.subplots(figsize=(7.5, 7.5))\n",
    "ax.matshow(conf_matrix, cmap=plt.cm.Blues, alpha=0.3)\n",
    "for i in range(conf_matrix.shape[0]):\n",
    "    for j in range(conf_matrix.shape[1]):\n",
    "        ax.text(x=j, y=i,s=conf_matrix[i, j], va='center', ha='center', size='xx-large')\n",
    " \n",
    "plt.xlabel('Predictions', fontsize=18)\n",
    "plt.ylabel('Actuals', fontsize=18)\n",
    "plt.title('Confusion Matrix', fontsize=18)\n",
    "plt.show()"
   ]
  },
  {
   "cell_type": "code",
   "execution_count": 28,
   "id": "661cbcea",
   "metadata": {},
   "outputs": [
    {
     "name": "stdout",
     "output_type": "stream",
     "text": [
      "[[3518   14    0    4    1   17    3   20]\n",
      " [   5  187    0    0    6   20    0   17]\n",
      " [   0    6  273    0    0    6    0    0]\n",
      " [   0    0    5  569    0    9    0    1]\n",
      " [   1    1    1    0  216    1    0   33]\n",
      " [   3   19    4    7    1 5386    4   15]\n",
      " [   4    4    0    4    1   12 1342    2]\n",
      " [  11   26    0    1   17   30    0 4956]]\n",
      "                   precision    recall  f1-score   support\n",
      "\n",
      "Domestic Violence       0.99      0.98      0.99      3577\n",
      "         Femicide       0.73      0.80      0.76       235\n",
      "  Forced Abortion       0.96      0.96      0.96       285\n",
      "  Forced Marriage       0.97      0.97      0.97       584\n",
      "  Online Violence       0.89      0.85      0.87       253\n",
      "             Rape       0.98      0.99      0.99      5439\n",
      "Sexual Harassment       0.99      0.98      0.99      1369\n",
      "  Sex Trafficking       0.98      0.98      0.98      5041\n",
      "\n",
      "         accuracy                           0.98     16783\n",
      "        macro avg       0.94      0.94      0.94     16783\n",
      "     weighted avg       0.98      0.98      0.98     16783\n",
      "\n",
      "0.9799797414049931\n"
     ]
    }
   ],
   "source": [
    "from sklearn.metrics import classification_report, confusion_matrix, accuracy_score\n",
    "\n",
    "print(confusion_matrix(Y_test.argmax(axis=1),pred_y.argmax(axis=1)))\n",
    "print(classification_report(Y_test.argmax(axis=1),pred_y.argmax(axis=1),target_names=class_names))\n",
    "print(accuracy_score(Y_test.argmax(axis=1),pred_y.argmax(axis=1)))"
   ]
  },
  {
   "cell_type": "code",
   "execution_count": null,
   "id": "d285f43c",
   "metadata": {},
   "outputs": [],
   "source": []
  }
 ],
 "metadata": {
  "kernelspec": {
   "display_name": "Python 3 (ipykernel)",
   "language": "python",
   "name": "python3"
  },
  "language_info": {
   "codemirror_mode": {
    "name": "ipython",
    "version": 3
   },
   "file_extension": ".py",
   "mimetype": "text/x-python",
   "name": "python",
   "nbconvert_exporter": "python",
   "pygments_lexer": "ipython3",
   "version": "3.9.0"
  }
 },
 "nbformat": 4,
 "nbformat_minor": 5
}
