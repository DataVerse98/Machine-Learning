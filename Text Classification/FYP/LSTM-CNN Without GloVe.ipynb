{
 "cells": [
  {
   "cell_type": "markdown",
   "id": "708fcc5b",
   "metadata": {},
   "source": [
    "# LSTM-CNN Without GloVe"
   ]
  },
  {
   "cell_type": "code",
   "execution_count": 1,
   "id": "d0c3d87c",
   "metadata": {},
   "outputs": [],
   "source": [
    "import os\n",
    "import re\n",
    "import shutil\n",
    "import string\n",
    "\n",
    "import pandas as pd\n",
    "import numpy as np"
   ]
  },
  {
   "cell_type": "code",
   "execution_count": 2,
   "id": "f34fa5c6",
   "metadata": {},
   "outputs": [
    {
     "data": {
      "text/html": [
       "<div>\n",
       "<style scoped>\n",
       "    .dataframe tbody tr th:only-of-type {\n",
       "        vertical-align: middle;\n",
       "    }\n",
       "\n",
       "    .dataframe tbody tr th {\n",
       "        vertical-align: top;\n",
       "    }\n",
       "\n",
       "    .dataframe thead th {\n",
       "        text-align: right;\n",
       "    }\n",
       "</style>\n",
       "<table border=\"1\" class=\"dataframe\">\n",
       "  <thead>\n",
       "    <tr style=\"text-align: right;\">\n",
       "      <th></th>\n",
       "      <th>Unnamed: 0.1</th>\n",
       "      <th>Unnamed: 0</th>\n",
       "      <th>tweet</th>\n",
       "      <th>Label</th>\n",
       "      <th>clean_tweet</th>\n",
       "      <th>clean_tweet2</th>\n",
       "    </tr>\n",
       "  </thead>\n",
       "  <tbody>\n",
       "    <tr>\n",
       "      <th>0</th>\n",
       "      <td>0</td>\n",
       "      <td>90896</td>\n",
       "      <td>Th blizzards R landing all over th ceiling, wa...</td>\n",
       "      <td>Sex Trafficking</td>\n",
       "      <td>blizzards landing all over ceiling walls and f...</td>\n",
       "      <td>blizzards landing ceiling walls floor country ...</td>\n",
       "    </tr>\n",
       "    <tr>\n",
       "      <th>1</th>\n",
       "      <td>1</td>\n",
       "      <td>47283</td>\n",
       "      <td>@LALewman What the dimwits fail to acknowledge...</td>\n",
       "      <td>Rape</td>\n",
       "      <td>what the dimwits fail acknowledge that ectopic...</td>\n",
       "      <td>dimwits fail acknowledge ectopic pregnancy kil...</td>\n",
       "    </tr>\n",
       "    <tr>\n",
       "      <th>2</th>\n",
       "      <td>2</td>\n",
       "      <td>33330</td>\n",
       "      <td>Good to know that @bbcnews @bbcworldservice do...</td>\n",
       "      <td>Rape</td>\n",
       "      <td>good know that not care about the rape women a...</td>\n",
       "      <td>good know not care rape women girls not russia...</td>\n",
       "    </tr>\n",
       "    <tr>\n",
       "      <th>3</th>\n",
       "      <td>3</td>\n",
       "      <td>48737</td>\n",
       "      <td>S/O to all of you who want Roe V Wade overturn...</td>\n",
       "      <td>Rape</td>\n",
       "      <td>all you who want roe wade overturned and who g...</td>\n",
       "      <td>want roe wade overturned guess providing finan...</td>\n",
       "    </tr>\n",
       "    <tr>\n",
       "      <th>4</th>\n",
       "      <td>4</td>\n",
       "      <td>92382</td>\n",
       "      <td>@Mr_Macaaroni Sex worker industry fuels human ...</td>\n",
       "      <td>Sex Trafficking</td>\n",
       "      <td>sex worker industry fuels human trafficking th...</td>\n",
       "      <td>sex worker industry fuels human trafficking ca...</td>\n",
       "    </tr>\n",
       "    <tr>\n",
       "      <th>...</th>\n",
       "      <td>...</td>\n",
       "      <td>...</td>\n",
       "      <td>...</td>\n",
       "      <td>...</td>\n",
       "      <td>...</td>\n",
       "      <td>...</td>\n",
       "    </tr>\n",
       "    <tr>\n",
       "      <th>85692</th>\n",
       "      <td>85692</td>\n",
       "      <td>91446</td>\n",
       "      <td>Sex trafficking is bad for the economy!!!!</td>\n",
       "      <td>Sex Trafficking</td>\n",
       "      <td>sex trafficking bad for the economy</td>\n",
       "      <td>sex trafficking bad economy</td>\n",
       "    </tr>\n",
       "    <tr>\n",
       "      <th>85693</th>\n",
       "      <td>85693</td>\n",
       "      <td>74923</td>\n",
       "      <td>@bassie_hd @MAJDAL774632662 @lion_4_zion @AD_G...</td>\n",
       "      <td>Sexual Harassment</td>\n",
       "      <td>seems that your mind intellectually polluted a...</td>\n",
       "      <td>seems mind intellectually polluted carries not...</td>\n",
       "    </tr>\n",
       "    <tr>\n",
       "      <th>85694</th>\n",
       "      <td>85694</td>\n",
       "      <td>4357</td>\n",
       "      <td>@Redlizzieredd @todd_spader Domestic Violence ...</td>\n",
       "      <td>Domestic Violence</td>\n",
       "      <td>domestic violence needs outlet they should gym...</td>\n",
       "      <td>domestic violence needs outlet gym feeling str...</td>\n",
       "    </tr>\n",
       "    <tr>\n",
       "      <th>85695</th>\n",
       "      <td>85695</td>\n",
       "      <td>41500</td>\n",
       "      <td>@Steevec10 @theJagmeetSingh It's 9 months out ...</td>\n",
       "      <td>Rape</td>\n",
       "      <td>months out her entire life you should not murd...</td>\n",
       "      <td>months entire life not murder baby someone els...</td>\n",
       "    </tr>\n",
       "    <tr>\n",
       "      <th>85696</th>\n",
       "      <td>85696</td>\n",
       "      <td>3886</td>\n",
       "      <td>@dontlickchalk Not a current owner, not advers...</td>\n",
       "      <td>Domestic Violence</td>\n",
       "      <td>not current owner not adverse owning grew arou...</td>\n",
       "      <td>not current owner not adverse owning grew arou...</td>\n",
       "    </tr>\n",
       "  </tbody>\n",
       "</table>\n",
       "<p>85697 rows × 6 columns</p>\n",
       "</div>"
      ],
      "text/plain": [
       "       Unnamed: 0.1  Unnamed: 0  \\\n",
       "0                 0       90896   \n",
       "1                 1       47283   \n",
       "2                 2       33330   \n",
       "3                 3       48737   \n",
       "4                 4       92382   \n",
       "...             ...         ...   \n",
       "85692         85692       91446   \n",
       "85693         85693       74923   \n",
       "85694         85694        4357   \n",
       "85695         85695       41500   \n",
       "85696         85696        3886   \n",
       "\n",
       "                                                   tweet              Label  \\\n",
       "0      Th blizzards R landing all over th ceiling, wa...    Sex Trafficking   \n",
       "1      @LALewman What the dimwits fail to acknowledge...               Rape   \n",
       "2      Good to know that @bbcnews @bbcworldservice do...               Rape   \n",
       "3      S/O to all of you who want Roe V Wade overturn...               Rape   \n",
       "4      @Mr_Macaaroni Sex worker industry fuels human ...    Sex Trafficking   \n",
       "...                                                  ...                ...   \n",
       "85692         Sex trafficking is bad for the economy!!!!    Sex Trafficking   \n",
       "85693  @bassie_hd @MAJDAL774632662 @lion_4_zion @AD_G...  Sexual Harassment   \n",
       "85694  @Redlizzieredd @todd_spader Domestic Violence ...  Domestic Violence   \n",
       "85695  @Steevec10 @theJagmeetSingh It's 9 months out ...               Rape   \n",
       "85696  @dontlickchalk Not a current owner, not advers...  Domestic Violence   \n",
       "\n",
       "                                             clean_tweet  \\\n",
       "0      blizzards landing all over ceiling walls and f...   \n",
       "1      what the dimwits fail acknowledge that ectopic...   \n",
       "2      good know that not care about the rape women a...   \n",
       "3      all you who want roe wade overturned and who g...   \n",
       "4      sex worker industry fuels human trafficking th...   \n",
       "...                                                  ...   \n",
       "85692                sex trafficking bad for the economy   \n",
       "85693  seems that your mind intellectually polluted a...   \n",
       "85694  domestic violence needs outlet they should gym...   \n",
       "85695  months out her entire life you should not murd...   \n",
       "85696  not current owner not adverse owning grew arou...   \n",
       "\n",
       "                                            clean_tweet2  \n",
       "0      blizzards landing ceiling walls floor country ...  \n",
       "1      dimwits fail acknowledge ectopic pregnancy kil...  \n",
       "2      good know not care rape women girls not russia...  \n",
       "3      want roe wade overturned guess providing finan...  \n",
       "4      sex worker industry fuels human trafficking ca...  \n",
       "...                                                  ...  \n",
       "85692                        sex trafficking bad economy  \n",
       "85693  seems mind intellectually polluted carries not...  \n",
       "85694  domestic violence needs outlet gym feeling str...  \n",
       "85695  months entire life not murder baby someone els...  \n",
       "85696  not current owner not adverse owning grew arou...  \n",
       "\n",
       "[85697 rows x 6 columns]"
      ]
     },
     "execution_count": 2,
     "metadata": {},
     "output_type": "execute_result"
    }
   ],
   "source": [
    "df = pd.read_csv('cleaned_df.csv')\n",
    "\n",
    "df"
   ]
  },
  {
   "cell_type": "markdown",
   "id": "4eae11be",
   "metadata": {},
   "source": [
    "Find Maximum Sentences"
   ]
  },
  {
   "cell_type": "code",
   "execution_count": 3,
   "id": "1a20f474",
   "metadata": {},
   "outputs": [
    {
     "name": "stdout",
     "output_type": "stream",
     "text": [
      "Dataset Max Sentence Length :42\n"
     ]
    }
   ],
   "source": [
    "df['Num_words_text'] = df['clean_tweet2'].apply(lambda x:len(str(x).split())) \n",
    "mask = df['Num_words_text'] >2\n",
    "df = df[mask]\n",
    "max_dataset_sentence_length  = df['Num_words_text'].max()\n",
    "print('Dataset Max Sentence Length :'+str(max_dataset_sentence_length))"
   ]
  },
  {
   "cell_type": "markdown",
   "id": "2b13c0f2",
   "metadata": {},
   "source": [
    "Find Number of Words"
   ]
  },
  {
   "cell_type": "code",
   "execution_count": 4,
   "id": "bcea7e83",
   "metadata": {},
   "outputs": [],
   "source": [
    "from nltk.tokenize import word_tokenize\n",
    "import nltk\n",
    "\n",
    "def create_corpus_tk(my_df):\n",
    "    corpus = []\n",
    "    for text in my_df[\"clean_tweet2\"]:\n",
    "        words = [word.lower() for word in word_tokenize(text)]\n",
    "        corpus.append(words)\n",
    "    return corpus"
   ]
  },
  {
   "cell_type": "code",
   "execution_count": 5,
   "id": "dc015b1a",
   "metadata": {},
   "outputs": [
    {
     "name": "stdout",
     "output_type": "stream",
     "text": [
      "83914\n"
     ]
    }
   ],
   "source": [
    "corpus = create_corpus_tk(df)\n",
    "\n",
    "num_words = len(corpus)\n",
    "print(num_words)"
   ]
  },
  {
   "cell_type": "markdown",
   "id": "2f5168bb",
   "metadata": {},
   "source": [
    "## Train/Test Split"
   ]
  },
  {
   "cell_type": "code",
   "execution_count": 6,
   "id": "e948d8b7",
   "metadata": {},
   "outputs": [],
   "source": [
    "from sklearn.model_selection import train_test_split\n",
    "\n",
    "X = df['clean_tweet2']\n",
    "Y = pd.get_dummies(df['Label']).values\n",
    "\n",
    "X_train, X_test, Y_train, Y_test = train_test_split(X, Y, test_size = 0.20, random_state = 42) #shuffle = False)"
   ]
  },
  {
   "cell_type": "markdown",
   "id": "83c23be5",
   "metadata": {},
   "source": [
    "## Tokenization"
   ]
  },
  {
   "cell_type": "code",
   "execution_count": 7,
   "id": "91e51d4d",
   "metadata": {},
   "outputs": [],
   "source": [
    "from keras.preprocessing.text import Tokenizer\n",
    "from keras.preprocessing.sequence import pad_sequences\n",
    "\n",
    "max_len = 50"
   ]
  },
  {
   "cell_type": "code",
   "execution_count": 8,
   "id": "4a63e2f4",
   "metadata": {},
   "outputs": [],
   "source": [
    "tokenizer = Tokenizer(num_words=num_words)\n",
    "tokenizer.fit_on_texts(X_train)"
   ]
  },
  {
   "cell_type": "code",
   "execution_count": 9,
   "id": "4ff2ce8d",
   "metadata": {},
   "outputs": [],
   "source": [
    "train_sequences = tokenizer.texts_to_sequences(X_train)"
   ]
  },
  {
   "cell_type": "code",
   "execution_count": 10,
   "id": "493081ff",
   "metadata": {},
   "outputs": [],
   "source": [
    "train_padded = pad_sequences(\n",
    "    train_sequences, maxlen=max_len, truncating=\"post\", padding=\"post\"\n",
    ")"
   ]
  },
  {
   "cell_type": "code",
   "execution_count": 11,
   "id": "229db063",
   "metadata": {},
   "outputs": [],
   "source": [
    "test_sequences = tokenizer.texts_to_sequences(X_test)\n",
    "test_padded = pad_sequences(\n",
    "    test_sequences, maxlen=max_len, truncating=\"post\", padding=\"post\"\n",
    ")"
   ]
  },
  {
   "cell_type": "code",
   "execution_count": 12,
   "id": "dcf0e66d",
   "metadata": {},
   "outputs": [
    {
     "name": "stdout",
     "output_type": "stream",
     "text": [
      "Number of unique words:  48798\n"
     ]
    }
   ],
   "source": [
    "word_index = tokenizer.word_index\n",
    "print(\"Number of unique words: \", len(word_index))"
   ]
  },
  {
   "cell_type": "markdown",
   "id": "a2b9cd19",
   "metadata": {},
   "source": [
    "## LSTM-CNN Model Without GloVe"
   ]
  },
  {
   "cell_type": "code",
   "execution_count": 17,
   "id": "19dc80ff",
   "metadata": {},
   "outputs": [
    {
     "name": "stdout",
     "output_type": "stream",
     "text": [
      "Model: \"sequential_3\"\n",
      "_________________________________________________________________\n",
      " Layer (type)                Output Shape              Param #   \n",
      "=================================================================\n",
      " embedding_3 (Embedding)     (None, 50, 100)           8391400   \n",
      "                                                                 \n",
      " lstm_layer (LSTM)           (None, 50, 100)           80400     \n",
      "                                                                 \n",
      " conv1d_3 (Conv1D)           (None, 47, 100)           40100     \n",
      "                                                                 \n",
      " max_pooling1d_3 (MaxPooling  (None, 23, 100)          0         \n",
      " 1D)                                                             \n",
      "                                                                 \n",
      " flatten_1 (Flatten)         (None, 2300)              0         \n",
      "                                                                 \n",
      " dense_6 (Dense)             (None, 100)               230100    \n",
      "                                                                 \n",
      " dense_7 (Dense)             (None, 8)                 808       \n",
      "                                                                 \n",
      "=================================================================\n",
      "Total params: 8,742,808\n",
      "Trainable params: 8,742,808\n",
      "Non-trainable params: 0\n",
      "_________________________________________________________________\n"
     ]
    }
   ],
   "source": [
    "from keras.models import Sequential\n",
    "from keras.layers.core import Activation, Dropout, Dense\n",
    "from keras.layers import Embedding, Conv1D, Dense, Flatten, MaxPooling1D, LSTM\n",
    "from keras.initializers import Constant\n",
    "from tensorflow.keras.optimizers import Adam\n",
    "\n",
    "EMBEDDING_DIM = 100\n",
    "\n",
    "model = Sequential()\n",
    "\n",
    "model.add(Embedding(num_words, EMBEDDING_DIM, input_length=train_padded.shape[1]))\n",
    "\n",
    "model.add(LSTM(100, return_sequences=True,name='lstm_layer'))  #, dropout=0.1\n",
    "model.add(Conv1D(100, 4, activation='relu')) # dropout=0.1\n",
    "model.add(MaxPooling1D())\n",
    "model.add(Flatten())\n",
    "model.add(Dense(100,activation=\"relu\"))\n",
    "model.add(Dense(8,activation=\"softmax\"))\n",
    "\n",
    "optimizer = Adam(learning_rate=3e-4)\n",
    "\n",
    "model.compile(loss=\"categorical_crossentropy\", optimizer=optimizer, metrics=[\"accuracy\"])\n",
    "\n",
    "model.summary()"
   ]
  },
  {
   "cell_type": "code",
   "execution_count": 18,
   "id": "cfa4e62a",
   "metadata": {},
   "outputs": [
    {
     "name": "stdout",
     "output_type": "stream",
     "text": [
      "Epoch 1/20\n",
      "1889/1889 [==============================] - 276s 145ms/step - loss: 0.0670 - accuracy: 0.8899 - val_loss: 0.0329 - val_accuracy: 0.9558\n",
      "Epoch 2/20\n",
      "1889/1889 [==============================] - 386s 204ms/step - loss: 0.0161 - accuracy: 0.9785 - val_loss: 0.0189 - val_accuracy: 0.9744\n",
      "Epoch 3/20\n",
      "1889/1889 [==============================] - 391s 207ms/step - loss: 0.0066 - accuracy: 0.9915 - val_loss: 0.0188 - val_accuracy: 0.9750\n",
      "Epoch 4/20\n",
      "1889/1889 [==============================] - 315s 167ms/step - loss: 0.0034 - accuracy: 0.9961 - val_loss: 0.0193 - val_accuracy: 0.9763\n",
      "Epoch 5/20\n",
      "1889/1889 [==============================] - 404s 214ms/step - loss: 0.0016 - accuracy: 0.9983 - val_loss: 0.0221 - val_accuracy: 0.9791\n",
      "Epoch 6/20\n",
      "1889/1889 [==============================] - 386s 204ms/step - loss: 0.0010 - accuracy: 0.9991 - val_loss: 0.0230 - val_accuracy: 0.9787\n",
      "Epoch 7/20\n",
      "1889/1889 [==============================] - 437s 231ms/step - loss: 7.1020e-04 - accuracy: 0.9995 - val_loss: 0.0244 - val_accuracy: 0.9796\n",
      "Epoch 8/20\n",
      "1889/1889 [==============================] - 408s 216ms/step - loss: 4.3849e-04 - accuracy: 0.9997 - val_loss: 0.0249 - val_accuracy: 0.9794\n",
      "Epoch 9/20\n",
      "1889/1889 [==============================] - 408s 216ms/step - loss: 6.3589e-04 - accuracy: 0.9995 - val_loss: 0.0226 - val_accuracy: 0.9780\n",
      "Epoch 10/20\n",
      "1889/1889 [==============================] - 334s 177ms/step - loss: 1.0290e-04 - accuracy: 0.9999 - val_loss: 0.0302 - val_accuracy: 0.9774\n",
      "Epoch 11/20\n",
      "1889/1889 [==============================] - 369s 195ms/step - loss: 6.6728e-05 - accuracy: 0.9999 - val_loss: 0.0350 - val_accuracy: 0.9784\n",
      "Epoch 12/20\n",
      "1889/1889 [==============================] - 351s 186ms/step - loss: 2.8371e-04 - accuracy: 0.9997 - val_loss: 0.0283 - val_accuracy: 0.9783\n",
      "Epoch 13/20\n",
      "1889/1889 [==============================] - 390s 207ms/step - loss: 2.0781e-04 - accuracy: 0.9998 - val_loss: 0.0302 - val_accuracy: 0.9793\n",
      "Epoch 14/20\n",
      "1889/1889 [==============================] - 362s 191ms/step - loss: 1.2730e-04 - accuracy: 0.9999 - val_loss: 0.0306 - val_accuracy: 0.9790\n",
      "Epoch 15/20\n",
      "1889/1889 [==============================] - 337s 179ms/step - loss: 4.1664e-05 - accuracy: 0.9999 - val_loss: 0.0446 - val_accuracy: 0.9760\n",
      "Epoch 16/20\n",
      "1889/1889 [==============================] - 346s 183ms/step - loss: 1.2503e-04 - accuracy: 0.9999 - val_loss: 0.0312 - val_accuracy: 0.9802\n",
      "Epoch 17/20\n",
      "1889/1889 [==============================] - 338s 179ms/step - loss: 2.6696e-06 - accuracy: 1.0000 - val_loss: 0.0347 - val_accuracy: 0.9796\n",
      "Epoch 18/20\n",
      "1889/1889 [==============================] - 328s 174ms/step - loss: 7.5502e-07 - accuracy: 1.0000 - val_loss: 0.0361 - val_accuracy: 0.9800\n",
      "Epoch 19/20\n",
      "1889/1889 [==============================] - 341s 181ms/step - loss: 1.3450e-07 - accuracy: 1.0000 - val_loss: 0.0381 - val_accuracy: 0.9797\n",
      "Epoch 20/20\n",
      "1889/1889 [==============================] - 261s 138ms/step - loss: 5.4554e-08 - accuracy: 1.0000 - val_loss: 0.0399 - val_accuracy: 0.9799\n",
      "CPU times: total: 5h 30min\n",
      "Wall time: 1h 59min 27s\n"
     ]
    }
   ],
   "source": [
    "%%time\n",
    "\n",
    "history = model.fit(\n",
    "    train_padded,\n",
    "    Y_train,\n",
    "    epochs=20,\n",
    "    validation_split=0.1,\n",
    "    #validation_data=(test_padded, Y_test),\n",
    "    verbose=1,\n",
    ")"
   ]
  },
  {
   "cell_type": "markdown",
   "id": "970220d9",
   "metadata": {},
   "source": [
    "## Save Model"
   ]
  },
  {
   "cell_type": "code",
   "execution_count": 19,
   "id": "1402e16c",
   "metadata": {},
   "outputs": [
    {
     "name": "stderr",
     "output_type": "stream",
     "text": [
      "WARNING:absl:Found untraced functions such as lstm_cell_3_layer_call_fn, lstm_cell_3_layer_call_and_return_conditional_losses while saving (showing 2 of 2). These functions will not be directly callable after loading.\n"
     ]
    },
    {
     "name": "stdout",
     "output_type": "stream",
     "text": [
      "INFO:tensorflow:Assets written to: lstm_cnn_model1\\assets\n"
     ]
    },
    {
     "name": "stderr",
     "output_type": "stream",
     "text": [
      "INFO:tensorflow:Assets written to: lstm_cnn_model1\\assets\n",
      "WARNING:absl:<keras.layers.recurrent.LSTMCell object at 0x0000016FDC7A6CA0> has the same name 'LSTMCell' as a built-in Keras object. Consider renaming <class 'keras.layers.recurrent.LSTMCell'> to avoid naming conflicts when loading with `tf.keras.models.load_model`. If renaming is not possible, pass the object in the `custom_objects` parameter of the load function.\n"
     ]
    }
   ],
   "source": [
    "from tensorflow import keras\n",
    "\n",
    "model.save('hybrid_model1')\n",
    "model = keras.models.load_model('hybrid_model1')"
   ]
  },
  {
   "cell_type": "code",
   "execution_count": 20,
   "id": "6b41c196",
   "metadata": {},
   "outputs": [],
   "source": [
    "import json\n",
    "\n",
    "with open('hybrid_model_history1.json', 'w') as f:\n",
    "    json.dump(history.history, f)"
   ]
  },
  {
   "cell_type": "code",
   "execution_count": 2,
   "id": "5aaf68e5",
   "metadata": {},
   "outputs": [],
   "source": [
    "import json\n",
    "\n",
    "f = open('lstm_cnn_model_history1.json')\n",
    "history = json.load(f)"
   ]
  },
  {
   "cell_type": "code",
   "execution_count": null,
   "id": "3730bd62",
   "metadata": {},
   "outputs": [],
   "source": [
    "history??"
   ]
  },
  {
   "cell_type": "markdown",
   "id": "f2380afb",
   "metadata": {},
   "source": [
    "## Evaluation"
   ]
  },
  {
   "cell_type": "code",
   "execution_count": 22,
   "id": "81118a2a",
   "metadata": {},
   "outputs": [
    {
     "name": "stdout",
     "output_type": "stream",
     "text": [
      "525/525 [==============================] - 16s 29ms/step - loss: 0.0390 - accuracy: 0.9811\n",
      "Test set\n",
      "  Loss: 0.039\n",
      "  Accuracy: 0.981\n"
     ]
    }
   ],
   "source": [
    "accr = model.evaluate(test_padded,Y_test)\n",
    "print('Test set\\n  Loss: {:0.3f}\\n  Accuracy: {:0.3f}'.format(accr[0],accr[1]))"
   ]
  },
  {
   "cell_type": "code",
   "execution_count": 3,
   "id": "d7169f4e",
   "metadata": {},
   "outputs": [
    {
     "data": {
      "image/png": "[encoded data removed]",
      "text/plain": [
       "<Figure size 432x288 with 1 Axes>"
      ]
     },
     "metadata": {
      "needs_background": "light"
     },
     "output_type": "display_data"
    }
   ],
   "source": [
    "import matplotlib.pyplot as plt\n",
    "\n",
    "plt.title('Loss')\n",
    "plt.plot(history['loss'], label='train')\n",
    "plt.plot(history['val_loss'], label='valid')\n",
    "plt.xlabel('Epoch Number')\n",
    "plt.ylabel('Loss')\n",
    "plt.legend()\n",
    "plt.show();"
   ]
  },
  {
   "cell_type": "code",
   "execution_count": 23,
   "id": "967e578a",
   "metadata": {},
   "outputs": [
    {
     "data": {
      "image/png": "[encoded data removed]",
      "text/plain": [
       "<Figure size 432x288 with 1 Axes>"
      ]
     },
     "metadata": {
      "needs_background": "light"
     },
     "output_type": "display_data"
    }
   ],
   "source": [
    "import matplotlib.pyplot as plt\n",
    "\n",
    "plt.title('Loss')\n",
    "plt.plot(history['loss'], label='train')\n",
    "plt.plot(history['val_loss'], label='valid')\n",
    "plt.legend()\n",
    "plt.show();"
   ]
  },
  {
   "cell_type": "code",
   "execution_count": 4,
   "id": "fbf4ef19",
   "metadata": {},
   "outputs": [
    {
     "data": {
      "image/png": "[encoded data removed]",
      "text/plain": [
       "<Figure size 432x288 with 1 Axes>"
      ]
     },
     "metadata": {
      "needs_background": "light"
     },
     "output_type": "display_data"
    }
   ],
   "source": [
    "plt.title('Accuracy')\n",
    "plt.plot(history['accuracy'], label='train')\n",
    "plt.plot(history['val_accuracy'], label='valid')\n",
    "plt.xlabel('Epoch Number')\n",
    "plt.ylabel('Accuracy')\n",
    "plt.legend()\n",
    "plt.show();"
   ]
  },
  {
   "cell_type": "code",
   "execution_count": 24,
   "id": "2ba190a1",
   "metadata": {},
   "outputs": [
    {
     "data": {
      "image/png": "[encoded data removed]",
      "text/plain": [
       "<Figure size 432x288 with 1 Axes>"
      ]
     },
     "metadata": {
      "needs_background": "light"
     },
     "output_type": "display_data"
    }
   ],
   "source": [
    "plt.title('Accuracy')\n",
    "plt.plot(history['accuracy'], label='train')\n",
    "plt.plot(history['val_accuracy'], label='valid')\n",
    "plt.legend()\n",
    "plt.show();"
   ]
  },
  {
   "cell_type": "code",
   "execution_count": 25,
   "id": "96f8edf2",
   "metadata": {},
   "outputs": [],
   "source": [
    "sequences = tokenizer.texts_to_sequences(X_test)\n",
    "padded_y = pad_sequences(sequences, maxlen=max_len, padding=\"post\", truncating=\"post\")"
   ]
  },
  {
   "cell_type": "code",
   "execution_count": 26,
   "id": "ab6b1275",
   "metadata": {},
   "outputs": [],
   "source": [
    "pred_y = model.predict(padded_y)\n",
    "pred_y_int = pred_y.round().astype(\"int\")"
   ]
  },
  {
   "cell_type": "code",
   "execution_count": 27,
   "id": "e6ac0f33",
   "metadata": {},
   "outputs": [],
   "source": [
    "import matplotlib.pyplot as plt\n",
    "\n",
    "def plot_value_array(i, predictions_array, true_label):\n",
    "  labels = [0,1,2,3,4,5,6,7] #['Domestic Violence', 'Rape', 'Sexual Harassment', 'Sex Trafficking', 'Forced Marriage', \n",
    "          #'Online Violence', 'femicide', 'forced abortion']\n",
    "  true_label = true_label\n",
    "  plt.grid(False)\n",
    "  plt.xticks(range(8))\n",
    "  plt.yticks([])\n",
    "  vector = np.vectorize(np.float64)\n",
    "  h = vector(predictions_array.reshape(1, -1))\n",
    "  thisplot = plt.bar(range(8), h[0], color=\"#777777\")\n",
    "  plt.ylim([0, 1])\n",
    "  predicted_label = labels[np.argmax(predictions_array.reshape(1, -1))]\n",
    "\n",
    "  thisplot[predicted_label].set_color('red')\n",
    "  thisplot[true_label].set_color('blue')"
   ]
  },
  {
   "cell_type": "code",
   "execution_count": 28,
   "id": "bf295baf",
   "metadata": {},
   "outputs": [
    {
     "name": "stdout",
     "output_type": "stream",
     "text": [
      "men emotions men experience abuse domestic violence men able express feelings report abuse vocal praying every man going thru something silently\n",
      "Domestic Violence 100% (Domestic Violence)\n"
     ]
    },
    {
     "data": {
      "image/png": "[encoded data removed]",
      "text/plain": [
       "<Figure size 648x216 with 1 Axes>"
      ]
     },
     "metadata": {
      "needs_background": "light"
     },
     "output_type": "display_data"
    }
   ],
   "source": [
    "#print(pred, labels[np.argmax(pred)])\n",
    "\n",
    "i = 5000\n",
    "reverse_word_index = dict([(value, key) for (key, value) in word_index.items()])\n",
    "\n",
    "def decode(text):\n",
    "    return \" \".join([reverse_word_index.get(i, \"?\") for i in text])\n",
    "\n",
    "my_word = decode(sequences[i])\n",
    "print(my_word)\n",
    "new_data = [my_word]\n",
    "seq = tokenizer.texts_to_sequences(new_data)\n",
    "padded = pad_sequences(seq, maxlen=max_len)\n",
    "pred = model.predict(padded)\n",
    "labels = [0,1,2,3,4,5,6,7] \n",
    "label = labels[np.argmax(Y_test[i])]\n",
    "class_names = ['Domestic Violence', 'Femicide', 'Forced Abortion', 'Forced Marriage',\n",
    "               'Online Violence', 'Rape', 'Sexual Harassment', 'Sex Trafficking']\n",
    "\n",
    "print(\"{} {:2.0f}% ({})\".format(class_names[labels[np.argmax(pred)]],\n",
    "                                100*np.max(pred),\n",
    "                                class_names[label]))\n",
    "\n",
    "plt.figure(figsize=(9,3))\n",
    "plt.subplot(1,2,1)\n",
    "plot_value_array(i, pred,  label)\n",
    "_ = plt.xticks(range(8), class_names, rotation=90)\n",
    "plt.show()"
   ]
  },
  {
   "cell_type": "code",
   "execution_count": 29,
   "id": "adb9c014",
   "metadata": {},
   "outputs": [
    {
     "data": {
      "image/png": "[encoded data removed]",
      "text/plain": [
       "<Figure size 540x540 with 1 Axes>"
      ]
     },
     "metadata": {
      "needs_background": "light"
     },
     "output_type": "display_data"
    }
   ],
   "source": [
    "from sklearn.metrics import confusion_matrix\n",
    "# Calculate the confusion matrix\n",
    "#\n",
    "y_pred = []\n",
    "test_label = []\n",
    "for i in range(len(pred_y)):\n",
    "    vector = np.vectorize(np.float64)\n",
    "    predY = vector(pred_y[i])\n",
    "    y_pred.append(np.argmax(predY))\n",
    "    test_label.append(np.argmax(Y_test[i]))\n",
    "\n",
    "conf_matrix = confusion_matrix(y_true=test_label, y_pred=y_pred) #, labels=class_names\n",
    "#\n",
    "# Print the confusion matrix using Matplotlib\n",
    "#\n",
    "fig, ax = plt.subplots(figsize=(7.5, 7.5))\n",
    "ax.matshow(conf_matrix, cmap=plt.cm.Blues, alpha=0.3)\n",
    "for i in range(conf_matrix.shape[0]):\n",
    "    for j in range(conf_matrix.shape[1]):\n",
    "        ax.text(x=j, y=i,s=conf_matrix[i, j], va='center', ha='center', size='xx-large')\n",
    " \n",
    "plt.xlabel('Predictions', fontsize=18)\n",
    "plt.ylabel('Actuals', fontsize=18)\n",
    "plt.title('Confusion Matrix', fontsize=18)\n",
    "plt.show()"
   ]
  },
  {
   "cell_type": "code",
   "execution_count": 30,
   "id": "0ae2334b",
   "metadata": {},
   "outputs": [
    {
     "name": "stdout",
     "output_type": "stream",
     "text": [
      "[[3537   11    1    1    0   13    1   13]\n",
      " [  14  181    2    1    1   20    1   15]\n",
      " [   1    0  276    0    0    8    0    0]\n",
      " [   0    0    3  572    0    7    1    1]\n",
      " [   2    0    0    0  225    2    0   24]\n",
      " [  17   10    8    7    2 5377    6   12]\n",
      " [   7    4    2    2    0   11 1340    3]\n",
      " [  25    7    2    0   13   33    3 4958]]\n",
      "                   precision    recall  f1-score   support\n",
      "\n",
      "Domestic Violence       0.98      0.99      0.99      3577\n",
      "         Femicide       0.85      0.77      0.81       235\n",
      "  Forced Abortion       0.94      0.97      0.95       285\n",
      "  Forced Marriage       0.98      0.98      0.98       584\n",
      "  Online Violence       0.93      0.89      0.91       253\n",
      "             Rape       0.98      0.99      0.99      5439\n",
      "Sexual Harassment       0.99      0.98      0.98      1369\n",
      "  Sex Trafficking       0.99      0.98      0.99      5041\n",
      "\n",
      "         accuracy                           0.98     16783\n",
      "        macro avg       0.96      0.94      0.95     16783\n",
      "     weighted avg       0.98      0.98      0.98     16783\n",
      "\n",
      "0.9811118393612585\n"
     ]
    }
   ],
   "source": [
    "from sklearn.metrics import classification_report, confusion_matrix, accuracy_score\n",
    "\n",
    "print(confusion_matrix(Y_test.argmax(axis=1),pred_y.argmax(axis=1)))\n",
    "print(classification_report(Y_test.argmax(axis=1),pred_y.argmax(axis=1),target_names=class_names))\n",
    "print(accuracy_score(Y_test.argmax(axis=1),pred_y.argmax(axis=1)))"
   ]
  },
  {
   "cell_type": "code",
   "execution_count": null,
   "id": "296fbca5",
   "metadata": {},
   "outputs": [],
   "source": []
  }
 ],
 "metadata": {
  "kernelspec": {
   "display_name": "Python 3 (ipykernel)",
   "language": "python",
   "name": "python3"
  },
  "language_info": {
   "codemirror_mode": {
    "name": "ipython",
    "version": 3
   },
   "file_extension": ".py",
   "mimetype": "text/x-python",
   "name": "python",
   "nbconvert_exporter": "python",
   "pygments_lexer": "ipython3",
   "version": "3.9.0"
  }
 },
 "nbformat": 4,
 "nbformat_minor": 5
}
